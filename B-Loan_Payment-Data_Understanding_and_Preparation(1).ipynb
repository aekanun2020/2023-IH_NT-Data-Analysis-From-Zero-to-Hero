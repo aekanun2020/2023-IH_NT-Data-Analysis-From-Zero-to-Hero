{
 "cells": [
  {
   "cell_type": "code",
   "execution_count": 125,
   "id": "524c7eee",
   "metadata": {},
   "outputs": [],
   "source": [
    "# ปรับแต่งค่าการทำงานของ Spark\n",
    "from pyspark.sql import SparkSession\n",
    "\n",
    "spark = SparkSession.\\\n",
    "        builder.\\\n",
    "        appName(\"ChiSqSelector:Gender vs. Route\").\\\n",
    "        master(\"spark://spark-master:7077\").\\\n",
    "        config(\"spark.executor.memory\", \"1000m\").\\\n",
    "        config(\"spark.executor.cores\", \"2\").\\\n",
    "        config(\"spark.cores.max\", \"6\").\\\n",
    "        getOrCreate()"
   ]
  },
  {
   "cell_type": "code",
   "execution_count": 126,
   "id": "37c0cf72",
   "metadata": {},
   "outputs": [],
   "source": [
    "# กำหนดตัวแปร\n",
    "\n",
    "HIGHDISPERSION_LIST= [] #เก็บชื่อคอลัมน์\n",
    "HIGHNULL_LIST = [] #เก็บชื่อคอลัมน์\n",
    "NULL_LIST = [] #เก็บชื่อคอลัมน์\n",
    "NULL_PERC = 0.1 #สูงกว่าค่านี้ เป็น High Null ซึ่งอาจใช้วิธีลบทั้ง row ที่มี null ไม่ได้ เพราะอาจทำให้สูญเสียทั้ง row ไปเยอะเกินควร\n",
    "DISPERSION_PERC = 100 #สูงกว่าค่านี้ (%) เป็น High Dispersion"
   ]
  },
  {
   "cell_type": "code",
   "execution_count": 127,
   "id": "2e6dc92b",
   "metadata": {},
   "outputs": [],
   "source": [
    "from pyspark.sql import functions as sparkf\n",
    "from pyspark.sql.types import *"
   ]
  },
  {
   "cell_type": "code",
   "execution_count": 128,
   "id": "30db613d",
   "metadata": {},
   "outputs": [],
   "source": [
    "#! pip install scipy"
   ]
  },
  {
   "cell_type": "code",
   "execution_count": 129,
   "id": "3504baa3",
   "metadata": {},
   "outputs": [],
   "source": [
    "# เรียกใช้ Module/Library ของ Python\n",
    "\n",
    "import numpy as np\n",
    "import scipy as sp\n",
    "import pandas as pd\n",
    "import matplotlib as mpl\n",
    "import matplotlib.pyplot as plt\n",
    "import seaborn as sns\n",
    "\n",
    "# Pandas options\n",
    "pd.set_option('display.max_colwidth', 1000, 'display.max_rows', None, 'display.max_columns', None)\n",
    "\n",
    "# Plotting options\n",
    "%matplotlib inline\n",
    "mpl.style.use('ggplot')\n",
    "sns.set(style='whitegrid')\n",
    "\n",
    "import warnings\n",
    "warnings.filterwarnings(\"ignore\")"
   ]
  },
  {
   "cell_type": "code",
   "execution_count": 130,
   "id": "cfd9e821",
   "metadata": {},
   "outputs": [],
   "source": [
    "# ประกาศฟังก์ชั่นที่ใช้ทำ Histogram กับ Boxplot เพื่อวิเคราะห์ distribution (shape), outlier และความสัมพันธ์ (correlation)\n",
    "\n",
    "def plot_var(arg_df, col_name, full_name, continuous):\n",
    "    \"\"\"\n",
    "    Visualize a variable with and without faceting on the loan status.\n",
    "    - col_name is the variable name in the dataframe\n",
    "    - full_name is the full variable name\n",
    "    - continuous is True if the variable is continuous, False otherwise\n",
    "    \"\"\"\n",
    "    f, (ax1, ax2) = plt.subplots(nrows=1, ncols=2, figsize=(12,3), dpi=90)\n",
    "    \n",
    "    # Plot without loan status\n",
    "    if continuous:\n",
    "        sns.distplot(arg_df.loc[arg_df[col_name].notnull(), col_name], kde=False, ax=ax1)\n",
    "    else:\n",
    "        sns.countplot(x=arg_df[col_name], order=sorted(arg_df[col_name].unique()), color='#5975A4', saturation=1, ax=ax1)\n",
    "    ax1.set_xlabel(full_name)\n",
    "    ax1.set_ylabel('Count')\n",
    "    ax1.set_title(full_name)\n",
    "\n",
    "    # Plot with loan status\n",
    "    if continuous:\n",
    "        sns.boxplot(x=col_name, y='loan_status', data=arg_df, ax=ax2)\n",
    "        ax2.set_ylabel('')\n",
    "        ax2.set_title(full_name + ' by Loan Status')\n",
    "    else:\n",
    "        charge_off_rates = arg_df.groupby(col_name)['loan_status'].value_counts(normalize=True).loc[:,'Charged Off']\n",
    "        sns.barplot(x=charge_off_rates.index, y=charge_off_rates.values, color='#5975A4', saturation=1, ax=ax2)\n",
    "        ax2.set_ylabel('Fraction of arg_df Charged-off')\n",
    "        ax2.set_title('Charge-off Rate by ' + full_name)\n",
    "    ax2.set_xlabel(full_name)\n",
    "    \n",
    "    plt.tight_layout()\n",
    "\n"
   ]
  },
  {
   "cell_type": "markdown",
   "id": "e717bd9d",
   "metadata": {},
   "source": [
    "## 1. Business Understaing\n",
    "    \n",
    "    1.1 Problem Statement: ต้องการทราบว่า ลูกหนี้แต่ละรายจะมาจ่ายหนี้ครบตามสัญญาเงินกู้ (Fully-paid) หรือไม่มาจ่ายฯ (Charged-off)\n",
    "    1.2 Project Objective: การจัดเก็บหนี้ดีขึ้นช่วยเพิ่มรายได้ให้กับกิจการ\n",
    "    1.3 Task of Data Science: Binary Classification\n",
    "    1.4 Cleansing Policy: ธุรกิจมี columns ที่แนะนำว่ามีความสัมพันธ์/ส่งผลต่อการชำระหนี้คืนตามสัญญา, ลบได้ทั้ง row หากมี missing ใน columns และแทนที่ได้ตามความเหมาะสม\n",
    "    1.5 Success Criteria: มี Recall/Sensitivity ไม่น้อยกว่า 0.65 บน Testing set แบบ Hold-out"
   ]
  },
  {
   "cell_type": "markdown",
   "id": "42adc862",
   "metadata": {},
   "source": [
    "## 2. Data Understanding\n",
    "    \n",
    "    - มี Label เป็น column: loan_status\n",
    "    - มีขนาดใหญ่ (volume)เกินกว่าเทคโนโลยีปัจจุบัน (Python) จะทำงานได้อย่างมีประสิทธิภาพ จึงต้องใช้ Spark ร่วมด้วย\n",
    "    - CSV เป็น semi-structural data ที่มี header ซึ่งสามารถนำไปพัฒนาเป็น schema ของ structural data (Spark DataFrame) ได้\n",
    "    - Data Dict.: https://docs.google.com/spreadsheets/d/1qtZBSJ-JS7S2tGC0W9Yxp992LmrDaAwGcJB419Htbbw/edit#gid=1163295822"
   ]
  },
  {
   "cell_type": "code",
   "execution_count": 131,
   "id": "e1b9325b",
   "metadata": {},
   "outputs": [],
   "source": [
    "#กำหนด columns ที่ธุรกิจให้คำแนะนำฯ ไว้\n",
    "\n",
    "businessAttrs_df = [\"loan_amnt\",\"term\",\"int_rate\"\\\n",
    "                                ,\"installment\",\"grade\",\"emp_length\",\\\n",
    "                           \"home_ownership\",\"annual_inc\"\\\n",
    "                                ,\"verification_status\",\"loan_status\",\\\n",
    "                           \"purpose\",\"addr_state\",\"dti\",\"delinq_2yrs\"\\\n",
    "                                ,\"earliest_cr_line\",\\\n",
    "                           \"open_acc\",\"pub_rec\"\\\n",
    "                                ,\"revol_bal\",\"revol_util\",\"total_acc\",\"issue_d\"]"
   ]
  },
  {
   "cell_type": "code",
   "execution_count": 132,
   "id": "40dd5c77",
   "metadata": {},
   "outputs": [],
   "source": [
    "#! apt-get install wget -y"
   ]
  },
  {
   "cell_type": "code",
   "execution_count": 133,
   "id": "f533e4ed",
   "metadata": {},
   "outputs": [],
   "source": [
    "#! wget https://storage.googleapis.com/ntclass/LoanStats_web.csv"
   ]
  },
  {
   "cell_type": "code",
   "execution_count": 134,
   "id": "d6091fe0",
   "metadata": {},
   "outputs": [
    {
     "name": "stdout",
     "output_type": "stream",
     "text": [
      "1432493 LoanStats_web.csv\n"
     ]
    }
   ],
   "source": [
    "! wc -l LoanStats_web.csv"
   ]
  },
  {
   "cell_type": "code",
   "execution_count": 135,
   "id": "ef30f6da",
   "metadata": {},
   "outputs": [
    {
     "name": "stdout",
     "output_type": "stream",
     "text": [
      "\"id\",\"member_id\",\"loan_amnt\",\"funded_amnt\",\"funded_amnt_inv\",\"term\",\"int_rate\",\"installment\",\"grade\",\"sub_grade\",\"emp_title\",\"emp_length\",\"home_ownership\",\"annual_inc\",\"verification_status\",\"issue_d\",\"loan_status\",\"pymnt_plan\",\"url\",\"desc\",\"purpose\",\"title\",\"zip_code\",\"addr_state\",\"dti\",\"delinq_2yrs\",\"earliest_cr_line\",\"inq_last_6mths\",\"mths_since_last_delinq\",\"mths_since_last_record\",\"open_acc\",\"pub_rec\",\"revol_bal\",\"revol_util\",\"total_acc\",\"initial_list_status\",\"out_prncp\",\"out_prncp_inv\",\"total_pymnt\",\"total_pymnt_inv\",\"total_rec_prncp\",\"total_rec_int\",\"total_rec_late_fee\",\"recoveries\",\"collection_recovery_fee\",\"last_pymnt_d\",\"last_pymnt_amnt\",\"next_pymnt_d\",\"last_credit_pull_d\",\"collections_12_mths_ex_med\",\"mths_since_last_major_derog\",\"policy_code\",\"application_type\",\"annual_inc_joint\",\"dti_joint\",\"verification_status_joint\",\"acc_now_delinq\",\"tot_coll_amt\",\"tot_cur_bal\",\"open_acc_6m\",\"open_act_il\",\"open_il_12m\",\"open_il_24m\",\"mths_since_rcnt_il\",\"total_bal_il\",\"il_util\",\"open_rv_12m\",\"open_rv_24m\",\"max_bal_bc\",\"all_util\",\"total_rev_hi_lim\",\"inq_fi\",\"total_cu_tl\",\"inq_last_12m\",\"acc_open_past_24mths\",\"avg_cur_bal\",\"bc_open_to_buy\",\"bc_util\",\"chargeoff_within_12_mths\",\"delinq_amnt\",\"mo_sin_old_il_acct\",\"mo_sin_old_rev_tl_op\",\"mo_sin_rcnt_rev_tl_op\",\"mo_sin_rcnt_tl\",\"mort_acc\",\"mths_since_recent_bc\",\"mths_since_recent_bc_dlq\",\"mths_since_recent_inq\",\"mths_since_recent_revol_delinq\",\"num_accts_ever_120_pd\",\"num_actv_bc_tl\",\"num_actv_rev_tl\",\"num_bc_sats\",\"num_bc_tl\",\"num_il_tl\",\"num_op_rev_tl\",\"num_rev_accts\",\"num_rev_tl_bal_gt_0\",\"num_sats\",\"num_tl_120dpd_2m\",\"num_tl_30dpd\",\"num_tl_90g_dpd_24m\",\"num_tl_op_past_12m\",\"pct_tl_nvr_dlq\",\"percent_bc_gt_75\",\"pub_rec_bankruptcies\",\"tax_liens\",\"tot_hi_cred_lim\",\"total_bal_ex_mort\",\"total_bc_limit\",\"total_il_high_credit_limit\",\"revol_bal_joint\",\"sec_app_earliest_cr_line\",\"sec_app_inq_last_6mths\",\"sec_app_mort_acc\",\"sec_app_open_acc\",\"sec_app_revol_util\",\"sec_app_open_act_il\",\"sec_app_num_rev_accts\",\"sec_app_chargeoff_within_12_mths\",\"sec_app_collections_12_mths_ex_med\",\"sec_app_mths_since_last_major_derog\",\"hardship_flag\",\"hardship_type\",\"hardship_reason\",\"hardship_status\",\"deferral_term\",\"hardship_amount\",\"hardship_start_date\",\"hardship_end_date\",\"payment_plan_start_date\",\"hardship_length\",\"hardship_dpd\",\"hardship_loan_status\",\"orig_projected_additional_accrued_interest\",\"hardship_payoff_balance_amount\",\"hardship_last_payment_amount\",\"debt_settlement_flag\",\"debt_settlement_flag_date\",\"settlement_status\",\"settlement_date\",\"settlement_amount\",\"settlement_percentage\",\"settlement_term\"\n",
      "\"\",\"\",\"30000\",\"30000\",\"30000\",\" 36 months\",\"  9.75%\",\"964.5\",\"B\",\"B3\",\"\",\"n/a\",\"MORTGAGE\",\"89600\",\"Verified\",\"Mar-2016\",\"Fully Paid\",\"n\",\"\",\"\",\"debt_consolidation\",\"Debt consolidation\",\"233xx\",\"VA\",\"21.15\",\"0\",\"Oct-1996\",\"1\",\"51\",\"\",\"22\",\"0\",\"45643\",\"64%\",\"43\",\"w\",\"0.00\",\"0.00\",\"34683.4671902942\",\"34683.47\",\"30000.00\",\"4683.47\",\"0.0\",\"0.0\",\"0.0\",\"Feb-2019\",\"1922.97\",\"\",\"Oct-2019\",\"0\",\"\",\"1\",\"Individual\",\"\",\"\",\"\",\"0\",\"0\",\"45643\",\"0\",\"0\",\"0\",\"0\",\"64\",\"0\",\"0\",\"2\",\"4\",\"4412\",\"64\",\"71690\",\"0\",\"3\",\"1\",\"4\",\"2282\",\"3586\",\"44\",\"0\",\"0\",\"165\",\"233\",\"7\",\"7\",\"1\",\"16\",\"\",\"2\",\"51\",\"0\",\"7\",\"20\",\"12\",\"12\",\"7\",\"20\",\"35\",\"17\",\"20\",\"\",\"0\",\"0\",\"2\",\"98\",\"57.1\",\"0\",\"0\",\"71690\",\"45643\",\"25100\",\"0\",\"\",\"\",\"\",\"\",\"\",\"\",\"\",\"\",\"\",\"\",\"\",\"N\",\"\",\"\",\"\",\"\",\"\",\"\",\"\",\"\",\"\",\"\",\"\",\"\",\"\",\"\",\"N\",\"\",\"\",\"\",\"\",\"\",\"\"\n",
      "\"\",\"\",\"25000\",\"25000\",\"25000\",\" 36 months\",\"  5.32%\",\"752.87\",\"A\",\"A1\",\"Carman welder\",\"10+ years\",\"MORTGAGE\",\"70000\",\"Not Verified\",\"Mar-2016\",\"Fully Paid\",\"n\",\"\",\"\",\"debt_consolidation\",\"Debt consolidation\",\"758xx\",\"TX\",\"21.81\",\"0\",\"Jul-1983\",\"0\",\"\",\"\",\"16\",\"0\",\"4091\",\"6.8%\",\"54\",\"w\",\"0.00\",\"0.00\",\"27088.521784058\",\"27088.52\",\"25000.00\",\"2088.52\",\"0.0\",\"0.0\",\"0.0\",\"Apr-2019\",\"752.85\",\"\",\"Mar-2019\",\"0\",\"\",\"1\",\"Individual\",\"\",\"\",\"\",\"0\",\"0\",\"51894\",\"0\",\"5\",\"0\",\"4\",\"13\",\"47803\",\"79\",\"0\",\"1\",\"1306\",\"43\",\"60000\",\"2\",\"24\",\"1\",\"5\",\"3460\",\"32694\",\"3.8\",\"0\",\"0\",\"155\",\"392\",\"20\",\"13\",\"1\",\"29\",\"\",\"9\",\"\",\"0\",\"1\",\"2\",\"6\",\"13\",\"31\",\"11\",\"22\",\"2\",\"16\",\"0\",\"0\",\"0\",\"0\",\"100\",\"0\",\"0\",\"0\",\"120454\",\"51894\",\"34000\",\"60454\",\"\",\"\",\"\",\"\",\"\",\"\",\"\",\"\",\"\",\"\",\"\",\"N\",\"\",\"\",\"\",\"\",\"\",\"\",\"\",\"\",\"\",\"\",\"\",\"\",\"\",\"\",\"N\",\"\",\"\",\"\",\"\",\"\",\"\"\n"
     ]
    }
   ],
   "source": [
    "! head -3 LoanStats_web.csv"
   ]
  },
  {
   "cell_type": "code",
   "execution_count": 136,
   "id": "c030181b",
   "metadata": {},
   "outputs": [
    {
     "name": "stderr",
     "output_type": "stream",
     "text": [
      "                                                                                \r"
     ]
    }
   ],
   "source": [
    "# Spark อ่านข้อมูลจาก .csv แล้ว convert เป็น DataFrame\n",
    "\n",
    "raw_df = spark.read.option('header',True)\\\n",
    ".option(\"quote\", \"\\\"\")\\\n",
    ".option('mode','DROPMALFORMED')\\\n",
    ".option('inferSchema',True)\\\n",
    ".csv('LoanStats_web.csv')\\\n",
    ".select(businessAttrs_df)"
   ]
  },
  {
   "cell_type": "code",
   "execution_count": 137,
   "id": "e84a70e1",
   "metadata": {},
   "outputs": [
    {
     "data": {
      "text/plain": [
       "1432466"
      ]
     },
     "execution_count": 137,
     "metadata": {},
     "output_type": "execute_result"
    }
   ],
   "source": [
    "# Spark นับจำนวน row ใน DataFrame\n",
    "\n",
    "raw_df.count()"
   ]
  },
  {
   "cell_type": "code",
   "execution_count": 138,
   "id": "20f93de4",
   "metadata": {},
   "outputs": [
    {
     "name": "stdout",
     "output_type": "stream",
     "text": [
      "root\n",
      " |-- loan_amnt: integer (nullable = true)\n",
      " |-- term: string (nullable = true)\n",
      " |-- int_rate: string (nullable = true)\n",
      " |-- installment: double (nullable = true)\n",
      " |-- grade: string (nullable = true)\n",
      " |-- emp_length: string (nullable = true)\n",
      " |-- home_ownership: string (nullable = true)\n",
      " |-- annual_inc: double (nullable = true)\n",
      " |-- verification_status: string (nullable = true)\n",
      " |-- loan_status: string (nullable = true)\n",
      " |-- purpose: string (nullable = true)\n",
      " |-- addr_state: string (nullable = true)\n",
      " |-- dti: string (nullable = true)\n",
      " |-- delinq_2yrs: string (nullable = true)\n",
      " |-- earliest_cr_line: string (nullable = true)\n",
      " |-- open_acc: integer (nullable = true)\n",
      " |-- pub_rec: integer (nullable = true)\n",
      " |-- revol_bal: integer (nullable = true)\n",
      " |-- revol_util: string (nullable = true)\n",
      " |-- total_acc: integer (nullable = true)\n",
      " |-- issue_d: string (nullable = true)\n",
      "\n"
     ]
    }
   ],
   "source": [
    "raw_df.printSchema()"
   ]
  },
  {
   "cell_type": "code",
   "execution_count": 139,
   "id": "7c272f85",
   "metadata": {},
   "outputs": [],
   "source": [
    "allRows_count = raw_df.count()"
   ]
  },
  {
   "cell_type": "code",
   "execution_count": null,
   "id": "35d04c36",
   "metadata": {},
   "outputs": [],
   "source": []
  },
  {
   "cell_type": "markdown",
   "id": "6358fb2c",
   "metadata": {},
   "source": [
    "### 2.1 Univariate Analysis"
   ]
  },
  {
   "cell_type": "code",
   "execution_count": 140,
   "id": "46ace1b9",
   "metadata": {},
   "outputs": [
    {
     "name": "stderr",
     "output_type": "stream",
     "text": [
      "                                                                                \r"
     ]
    },
    {
     "data": {
      "text/html": [
       "<div>\n",
       "<style scoped>\n",
       "    .dataframe tbody tr th:only-of-type {\n",
       "        vertical-align: middle;\n",
       "    }\n",
       "\n",
       "    .dataframe tbody tr th {\n",
       "        vertical-align: top;\n",
       "    }\n",
       "\n",
       "    .dataframe thead th {\n",
       "        text-align: right;\n",
       "    }\n",
       "</style>\n",
       "<table border=\"1\" class=\"dataframe\">\n",
       "  <thead>\n",
       "    <tr style=\"text-align: right;\">\n",
       "      <th></th>\n",
       "      <th>0</th>\n",
       "      <th>1</th>\n",
       "      <th>2</th>\n",
       "      <th>3</th>\n",
       "      <th>4</th>\n",
       "    </tr>\n",
       "  </thead>\n",
       "  <tbody>\n",
       "    <tr>\n",
       "      <th>summary</th>\n",
       "      <td>count</td>\n",
       "      <td>mean</td>\n",
       "      <td>stddev</td>\n",
       "      <td>min</td>\n",
       "      <td>max</td>\n",
       "    </tr>\n",
       "    <tr>\n",
       "      <th>loan_amnt</th>\n",
       "      <td>1432440</td>\n",
       "      <td>15370.388358325654</td>\n",
       "      <td>9646.026272413876</td>\n",
       "      <td>1000</td>\n",
       "      <td>40000</td>\n",
       "    </tr>\n",
       "    <tr>\n",
       "      <th>term</th>\n",
       "      <td>1432440</td>\n",
       "      <td>None</td>\n",
       "      <td>None</td>\n",
       "      <td>36 months</td>\n",
       "      <td>60 months</td>\n",
       "    </tr>\n",
       "    <tr>\n",
       "      <th>int_rate</th>\n",
       "      <td>1432440</td>\n",
       "      <td>None</td>\n",
       "      <td>None</td>\n",
       "      <td>5.31%</td>\n",
       "      <td>30.99%</td>\n",
       "    </tr>\n",
       "    <tr>\n",
       "      <th>installment</th>\n",
       "      <td>1432440</td>\n",
       "      <td>456.68781535698236</td>\n",
       "      <td>281.7134422313182</td>\n",
       "      <td>19.4</td>\n",
       "      <td>1715.42</td>\n",
       "    </tr>\n",
       "    <tr>\n",
       "      <th>grade</th>\n",
       "      <td>1432440</td>\n",
       "      <td>None</td>\n",
       "      <td>None</td>\n",
       "      <td>A</td>\n",
       "      <td>G</td>\n",
       "    </tr>\n",
       "    <tr>\n",
       "      <th>emp_length</th>\n",
       "      <td>1432440</td>\n",
       "      <td>None</td>\n",
       "      <td>None</td>\n",
       "      <td>1 year</td>\n",
       "      <td>n/a</td>\n",
       "    </tr>\n",
       "    <tr>\n",
       "      <th>home_ownership</th>\n",
       "      <td>1432440</td>\n",
       "      <td>None</td>\n",
       "      <td>None</td>\n",
       "      <td>ANY</td>\n",
       "      <td>RENT</td>\n",
       "    </tr>\n",
       "    <tr>\n",
       "      <th>annual_inc</th>\n",
       "      <td>1432440</td>\n",
       "      <td>81034.58293296747</td>\n",
       "      <td>134183.35696714345</td>\n",
       "      <td>0.0</td>\n",
       "      <td>6.1E7</td>\n",
       "    </tr>\n",
       "    <tr>\n",
       "      <th>verification_status</th>\n",
       "      <td>1432440</td>\n",
       "      <td>None</td>\n",
       "      <td>None</td>\n",
       "      <td>Not Verified</td>\n",
       "      <td>Verified</td>\n",
       "    </tr>\n",
       "    <tr>\n",
       "      <th>loan_status</th>\n",
       "      <td>1432440</td>\n",
       "      <td>None</td>\n",
       "      <td>None</td>\n",
       "      <td>Charged Off</td>\n",
       "      <td>Late (31-120 days)</td>\n",
       "    </tr>\n",
       "    <tr>\n",
       "      <th>purpose</th>\n",
       "      <td>1432440</td>\n",
       "      <td>None</td>\n",
       "      <td>None</td>\n",
       "      <td>and also pay off some credit card debt.  I will be debt free except for my payment to you.  I don't care what the interest rate is</td>\n",
       "      <td>wedding</td>\n",
       "    </tr>\n",
       "    <tr>\n",
       "      <th>addr_state</th>\n",
       "      <td>1432440</td>\n",
       "      <td>None</td>\n",
       "      <td>None</td>\n",
       "      <td>AK</td>\n",
       "      <td>debt_consolidation</td>\n",
       "    </tr>\n",
       "    <tr>\n",
       "      <th>dti</th>\n",
       "      <td>1430856</td>\n",
       "      <td>19.21187297804439</td>\n",
       "      <td>15.97277532300163</td>\n",
       "      <td>-1</td>\n",
       "      <td>Debt consolidation</td>\n",
       "    </tr>\n",
       "    <tr>\n",
       "      <th>delinq_2yrs</th>\n",
       "      <td>1432440</td>\n",
       "      <td>0.30147182532729144</td>\n",
       "      <td>0.8643187650693963</td>\n",
       "      <td>0</td>\n",
       "      <td>9</td>\n",
       "    </tr>\n",
       "    <tr>\n",
       "      <th>earliest_cr_line</th>\n",
       "      <td>1432440</td>\n",
       "      <td>None</td>\n",
       "      <td>None</td>\n",
       "      <td>Apr-1955</td>\n",
       "      <td>Sep-2015</td>\n",
       "    </tr>\n",
       "    <tr>\n",
       "      <th>open_acc</th>\n",
       "      <td>1432440</td>\n",
       "      <td>11.710318756806569</td>\n",
       "      <td>5.841056149724105</td>\n",
       "      <td>0</td>\n",
       "      <td>101</td>\n",
       "    </tr>\n",
       "    <tr>\n",
       "      <th>pub_rec</th>\n",
       "      <td>1432439</td>\n",
       "      <td>0.20539234131435963</td>\n",
       "      <td>0.5861093697871795</td>\n",
       "      <td>0</td>\n",
       "      <td>61</td>\n",
       "    </tr>\n",
       "    <tr>\n",
       "      <th>revol_bal</th>\n",
       "      <td>1432439</td>\n",
       "      <td>16846.678102173984</td>\n",
       "      <td>23301.014583199456</td>\n",
       "      <td>0</td>\n",
       "      <td>2358150</td>\n",
       "    </tr>\n",
       "    <tr>\n",
       "      <th>revol_util</th>\n",
       "      <td>1431251</td>\n",
       "      <td>19.0</td>\n",
       "      <td>NaN</td>\n",
       "      <td>0%</td>\n",
       "      <td>99.9%</td>\n",
       "    </tr>\n",
       "    <tr>\n",
       "      <th>total_acc</th>\n",
       "      <td>1432440</td>\n",
       "      <td>23.602901343162717</td>\n",
       "      <td>12.040983315039249</td>\n",
       "      <td>0</td>\n",
       "      <td>176</td>\n",
       "    </tr>\n",
       "    <tr>\n",
       "      <th>issue_d</th>\n",
       "      <td>1432440</td>\n",
       "      <td>None</td>\n",
       "      <td>None</td>\n",
       "      <td>Apr-2016</td>\n",
       "      <td>Sep-2018</td>\n",
       "    </tr>\n",
       "  </tbody>\n",
       "</table>\n",
       "</div>"
      ],
      "text/plain": [
       "                           0                    1                   2  \\\n",
       "summary                count                 mean              stddev   \n",
       "loan_amnt            1432440   15370.388358325654   9646.026272413876   \n",
       "term                 1432440                 None                None   \n",
       "int_rate             1432440                 None                None   \n",
       "installment          1432440   456.68781535698236   281.7134422313182   \n",
       "grade                1432440                 None                None   \n",
       "emp_length           1432440                 None                None   \n",
       "home_ownership       1432440                 None                None   \n",
       "annual_inc           1432440    81034.58293296747  134183.35696714345   \n",
       "verification_status  1432440                 None                None   \n",
       "loan_status          1432440                 None                None   \n",
       "purpose              1432440                 None                None   \n",
       "addr_state           1432440                 None                None   \n",
       "dti                  1430856    19.21187297804439   15.97277532300163   \n",
       "delinq_2yrs          1432440  0.30147182532729144  0.8643187650693963   \n",
       "earliest_cr_line     1432440                 None                None   \n",
       "open_acc             1432440   11.710318756806569   5.841056149724105   \n",
       "pub_rec              1432439  0.20539234131435963  0.5861093697871795   \n",
       "revol_bal            1432439   16846.678102173984  23301.014583199456   \n",
       "revol_util           1431251                 19.0                 NaN   \n",
       "total_acc            1432440   23.602901343162717  12.040983315039249   \n",
       "issue_d              1432440                 None                None   \n",
       "\n",
       "                                                                                                                                                       3  \\\n",
       "summary                                                                                                                                              min   \n",
       "loan_amnt                                                                                                                                           1000   \n",
       "term                                                                                                                                           36 months   \n",
       "int_rate                                                                                                                                           5.31%   \n",
       "installment                                                                                                                                         19.4   \n",
       "grade                                                                                                                                                  A   \n",
       "emp_length                                                                                                                                        1 year   \n",
       "home_ownership                                                                                                                                       ANY   \n",
       "annual_inc                                                                                                                                           0.0   \n",
       "verification_status                                                                                                                         Not Verified   \n",
       "loan_status                                                                                                                                  Charged Off   \n",
       "purpose               and also pay off some credit card debt.  I will be debt free except for my payment to you.  I don't care what the interest rate is   \n",
       "addr_state                                                                                                                                            AK   \n",
       "dti                                                                                                                                                   -1   \n",
       "delinq_2yrs                                                                                                                                            0   \n",
       "earliest_cr_line                                                                                                                                Apr-1955   \n",
       "open_acc                                                                                                                                               0   \n",
       "pub_rec                                                                                                                                                0   \n",
       "revol_bal                                                                                                                                              0   \n",
       "revol_util                                                                                                                                            0%   \n",
       "total_acc                                                                                                                                              0   \n",
       "issue_d                                                                                                                                         Apr-2016   \n",
       "\n",
       "                                      4  \n",
       "summary                             max  \n",
       "loan_amnt                         40000  \n",
       "term                          60 months  \n",
       "int_rate                         30.99%  \n",
       "installment                     1715.42  \n",
       "grade                                 G  \n",
       "emp_length                          n/a  \n",
       "home_ownership                     RENT  \n",
       "annual_inc                        6.1E7  \n",
       "verification_status            Verified  \n",
       "loan_status          Late (31-120 days)  \n",
       "purpose                         wedding  \n",
       "addr_state           debt_consolidation  \n",
       "dti                  Debt consolidation  \n",
       "delinq_2yrs                           9  \n",
       "earliest_cr_line               Sep-2015  \n",
       "open_acc                            101  \n",
       "pub_rec                              61  \n",
       "revol_bal                       2358150  \n",
       "revol_util                        99.9%  \n",
       "total_acc                           176  \n",
       "issue_d                        Sep-2018  "
      ]
     },
     "execution_count": 140,
     "metadata": {},
     "output_type": "execute_result"
    }
   ],
   "source": [
    "# Spark วิเคราะห์ column แล้วแสดงค่าทางสถิติ 5 ค่า ของแต่ละ column โดยมี Python Pandas ช่วยในการแสดงผล\n",
    "\n",
    "raw_df.describe().toPandas().transpose()\n",
    "\n",
    "#### ผลจากการดู Range ขัอเกต คือ annual_inc มี 0 ด้วย"
   ]
  },
  {
   "cell_type": "code",
   "execution_count": 141,
   "id": "9ca2de19",
   "metadata": {},
   "outputs": [
    {
     "name": "stderr",
     "output_type": "stream",
     "text": [
      "                                                                                \r"
     ]
    },
    {
     "data": {
      "text/html": [
       "<div>\n",
       "<style scoped>\n",
       "    .dataframe tbody tr th:only-of-type {\n",
       "        vertical-align: middle;\n",
       "    }\n",
       "\n",
       "    .dataframe tbody tr th {\n",
       "        vertical-align: top;\n",
       "    }\n",
       "\n",
       "    .dataframe thead th {\n",
       "        text-align: right;\n",
       "    }\n",
       "</style>\n",
       "<table border=\"1\" class=\"dataframe\">\n",
       "  <thead>\n",
       "    <tr style=\"text-align: right;\">\n",
       "      <th></th>\n",
       "      <th>0</th>\n",
       "      <th>1</th>\n",
       "      <th>2</th>\n",
       "      <th>3</th>\n",
       "      <th>4</th>\n",
       "    </tr>\n",
       "  </thead>\n",
       "  <tbody>\n",
       "    <tr>\n",
       "      <th>summary</th>\n",
       "      <td>count</td>\n",
       "      <td>mean</td>\n",
       "      <td>stddev</td>\n",
       "      <td>min</td>\n",
       "      <td>max</td>\n",
       "    </tr>\n",
       "    <tr>\n",
       "      <th>loan_amnt</th>\n",
       "      <td>1553</td>\n",
       "      <td>19987.411461687057</td>\n",
       "      <td>11113.147359296123</td>\n",
       "      <td>1000</td>\n",
       "      <td>40000</td>\n",
       "    </tr>\n",
       "    <tr>\n",
       "      <th>term</th>\n",
       "      <td>1553</td>\n",
       "      <td>None</td>\n",
       "      <td>None</td>\n",
       "      <td>36 months</td>\n",
       "      <td>60 months</td>\n",
       "    </tr>\n",
       "    <tr>\n",
       "      <th>int_rate</th>\n",
       "      <td>1553</td>\n",
       "      <td>None</td>\n",
       "      <td>None</td>\n",
       "      <td>5.31%</td>\n",
       "      <td>30.79%</td>\n",
       "    </tr>\n",
       "    <tr>\n",
       "      <th>installment</th>\n",
       "      <td>1553</td>\n",
       "      <td>572.9260785576305</td>\n",
       "      <td>325.6019715932694</td>\n",
       "      <td>33.57</td>\n",
       "      <td>1597.6</td>\n",
       "    </tr>\n",
       "    <tr>\n",
       "      <th>grade</th>\n",
       "      <td>1553</td>\n",
       "      <td>None</td>\n",
       "      <td>None</td>\n",
       "      <td>A</td>\n",
       "      <td>G</td>\n",
       "    </tr>\n",
       "    <tr>\n",
       "      <th>emp_length</th>\n",
       "      <td>1553</td>\n",
       "      <td>None</td>\n",
       "      <td>None</td>\n",
       "      <td>1 year</td>\n",
       "      <td>n/a</td>\n",
       "    </tr>\n",
       "    <tr>\n",
       "      <th>home_ownership</th>\n",
       "      <td>1553</td>\n",
       "      <td>None</td>\n",
       "      <td>None</td>\n",
       "      <td>MORTGAGE</td>\n",
       "      <td>RENT</td>\n",
       "    </tr>\n",
       "    <tr>\n",
       "      <th>annual_inc</th>\n",
       "      <td>1553</td>\n",
       "      <td>0.0</td>\n",
       "      <td>0.0</td>\n",
       "      <td>0.0</td>\n",
       "      <td>0.0</td>\n",
       "    </tr>\n",
       "    <tr>\n",
       "      <th>verification_status</th>\n",
       "      <td>1553</td>\n",
       "      <td>None</td>\n",
       "      <td>None</td>\n",
       "      <td>Not Verified</td>\n",
       "      <td>Verified</td>\n",
       "    </tr>\n",
       "    <tr>\n",
       "      <th>loan_status</th>\n",
       "      <td>1553</td>\n",
       "      <td>None</td>\n",
       "      <td>None</td>\n",
       "      <td>Charged Off</td>\n",
       "      <td>Late (31-120 days)</td>\n",
       "    </tr>\n",
       "    <tr>\n",
       "      <th>purpose</th>\n",
       "      <td>1553</td>\n",
       "      <td>None</td>\n",
       "      <td>None</td>\n",
       "      <td>car</td>\n",
       "      <td>vacation</td>\n",
       "    </tr>\n",
       "    <tr>\n",
       "      <th>addr_state</th>\n",
       "      <td>1553</td>\n",
       "      <td>None</td>\n",
       "      <td>None</td>\n",
       "      <td>AK</td>\n",
       "      <td>WY</td>\n",
       "    </tr>\n",
       "    <tr>\n",
       "      <th>dti</th>\n",
       "      <td>12</td>\n",
       "      <td>0.0</td>\n",
       "      <td>0.0</td>\n",
       "      <td>0</td>\n",
       "      <td>0</td>\n",
       "    </tr>\n",
       "    <tr>\n",
       "      <th>delinq_2yrs</th>\n",
       "      <td>1553</td>\n",
       "      <td>0.13715389568576947</td>\n",
       "      <td>0.466525198087244</td>\n",
       "      <td>0</td>\n",
       "      <td>5</td>\n",
       "    </tr>\n",
       "    <tr>\n",
       "      <th>earliest_cr_line</th>\n",
       "      <td>1553</td>\n",
       "      <td>None</td>\n",
       "      <td>None</td>\n",
       "      <td>Apr-1971</td>\n",
       "      <td>Sep-2014</td>\n",
       "    </tr>\n",
       "    <tr>\n",
       "      <th>open_acc</th>\n",
       "      <td>1553</td>\n",
       "      <td>9.353509336767546</td>\n",
       "      <td>4.9902561871329</td>\n",
       "      <td>1</td>\n",
       "      <td>35</td>\n",
       "    </tr>\n",
       "    <tr>\n",
       "      <th>pub_rec</th>\n",
       "      <td>1553</td>\n",
       "      <td>0.10238248551191242</td>\n",
       "      <td>0.311631457760992</td>\n",
       "      <td>0</td>\n",
       "      <td>2</td>\n",
       "    </tr>\n",
       "    <tr>\n",
       "      <th>revol_bal</th>\n",
       "      <td>1553</td>\n",
       "      <td>17498.609143593047</td>\n",
       "      <td>29288.07342084379</td>\n",
       "      <td>0</td>\n",
       "      <td>609131</td>\n",
       "    </tr>\n",
       "    <tr>\n",
       "      <th>revol_util</th>\n",
       "      <td>1547</td>\n",
       "      <td>None</td>\n",
       "      <td>None</td>\n",
       "      <td>0%</td>\n",
       "      <td>99.9%</td>\n",
       "    </tr>\n",
       "    <tr>\n",
       "      <th>total_acc</th>\n",
       "      <td>1553</td>\n",
       "      <td>18.24146812620734</td>\n",
       "      <td>10.010511532493517</td>\n",
       "      <td>2</td>\n",
       "      <td>78</td>\n",
       "    </tr>\n",
       "    <tr>\n",
       "      <th>issue_d</th>\n",
       "      <td>1553</td>\n",
       "      <td>None</td>\n",
       "      <td>None</td>\n",
       "      <td>Apr-2016</td>\n",
       "      <td>Sep-2018</td>\n",
       "    </tr>\n",
       "  </tbody>\n",
       "</table>\n",
       "</div>"
      ],
      "text/plain": [
       "                         0                    1                   2  \\\n",
       "summary              count                 mean              stddev   \n",
       "loan_amnt             1553   19987.411461687057  11113.147359296123   \n",
       "term                  1553                 None                None   \n",
       "int_rate              1553                 None                None   \n",
       "installment           1553    572.9260785576305   325.6019715932694   \n",
       "grade                 1553                 None                None   \n",
       "emp_length            1553                 None                None   \n",
       "home_ownership        1553                 None                None   \n",
       "annual_inc            1553                  0.0                 0.0   \n",
       "verification_status   1553                 None                None   \n",
       "loan_status           1553                 None                None   \n",
       "purpose               1553                 None                None   \n",
       "addr_state            1553                 None                None   \n",
       "dti                     12                  0.0                 0.0   \n",
       "delinq_2yrs           1553  0.13715389568576947   0.466525198087244   \n",
       "earliest_cr_line      1553                 None                None   \n",
       "open_acc              1553    9.353509336767546     4.9902561871329   \n",
       "pub_rec               1553  0.10238248551191242   0.311631457760992   \n",
       "revol_bal             1553   17498.609143593047   29288.07342084379   \n",
       "revol_util            1547                 None                None   \n",
       "total_acc             1553    18.24146812620734  10.010511532493517   \n",
       "issue_d               1553                 None                None   \n",
       "\n",
       "                                3                   4  \n",
       "summary                       min                 max  \n",
       "loan_amnt                    1000               40000  \n",
       "term                    36 months           60 months  \n",
       "int_rate                    5.31%              30.79%  \n",
       "installment                 33.57              1597.6  \n",
       "grade                           A                   G  \n",
       "emp_length                 1 year                 n/a  \n",
       "home_ownership           MORTGAGE                RENT  \n",
       "annual_inc                    0.0                 0.0  \n",
       "verification_status  Not Verified            Verified  \n",
       "loan_status           Charged Off  Late (31-120 days)  \n",
       "purpose                       car            vacation  \n",
       "addr_state                     AK                  WY  \n",
       "dti                             0                   0  \n",
       "delinq_2yrs                     0                   5  \n",
       "earliest_cr_line         Apr-1971            Sep-2014  \n",
       "open_acc                        1                  35  \n",
       "pub_rec                         0                   2  \n",
       "revol_bal                       0              609131  \n",
       "revol_util                     0%               99.9%  \n",
       "total_acc                       2                  78  \n",
       "issue_d                  Apr-2016            Sep-2018  "
      ]
     },
     "execution_count": 141,
     "metadata": {},
     "output_type": "execute_result"
    }
   ],
   "source": [
    "#### ขยายผลกลุ่ม annual_inc = 0 ต่อไป เพื่อดูว่า ปล่อยกู้ในกลุ่มนี้ ยังงัยบ้าง\n",
    "raw_df.filter(sparkf.col('annual_inc')==0).describe().toPandas().transpose()"
   ]
  },
  {
   "cell_type": "code",
   "execution_count": 142,
   "id": "49fe020c",
   "metadata": {},
   "outputs": [
    {
     "name": "stderr",
     "output_type": "stream",
     "text": [
      "[Stage 475:============================================>            (7 + 2) / 9]\r"
     ]
    },
    {
     "name": "stdout",
     "output_type": "stream",
     "text": [
      "+---------+-----+\n",
      "|loan_amnt|count|\n",
      "+---------+-----+\n",
      "|    40000|  126|\n",
      "|    20000|   94|\n",
      "|    10000|   87|\n",
      "|    35000|   85|\n",
      "|    15000|   80|\n",
      "|    30000|   75|\n",
      "|    12000|   73|\n",
      "|    25000|   58|\n",
      "|    16000|   56|\n",
      "|    24000|   54|\n",
      "|     5000|   44|\n",
      "|     8000|   42|\n",
      "|    32000|   36|\n",
      "|    18000|   31|\n",
      "|     6000|   25|\n",
      "|    28000|   21|\n",
      "|    14000|   18|\n",
      "|    11000|   17|\n",
      "|    13000|   16|\n",
      "|     7000|   16|\n",
      "+---------+-----+\n",
      "only showing top 20 rows\n",
      "\n"
     ]
    },
    {
     "name": "stderr",
     "output_type": "stream",
     "text": [
      "                                                                                \r"
     ]
    }
   ],
   "source": [
    "#### code ก่อนหน้านี้เห็นว่า กลุ่ม annual_inc = 0 มีการปล่อยกู้ด้วยวงเงินสูงสุด 40,000\n",
    "#### code ในส่วนนี้ เห็นว่า คนที่ได้รับเงินกู้ไป 40,000 มีจำนวน 126 คน ซึ่งมากที่สุดแล้วในกลุ่ม annual_inc = 0\n",
    "raw_df.filter(sparkf.col('annual_inc')==0).groupBy('loan_amnt').count()\\\n",
    ".orderBy('count', ascending=False).show()"
   ]
  },
  {
   "cell_type": "code",
   "execution_count": 143,
   "id": "40da9cd5",
   "metadata": {},
   "outputs": [
    {
     "name": "stderr",
     "output_type": "stream",
     "text": [
      "                                                                                \r"
     ]
    },
    {
     "data": {
      "text/html": [
       "<div>\n",
       "<style scoped>\n",
       "    .dataframe tbody tr th:only-of-type {\n",
       "        vertical-align: middle;\n",
       "    }\n",
       "\n",
       "    .dataframe tbody tr th {\n",
       "        vertical-align: top;\n",
       "    }\n",
       "\n",
       "    .dataframe thead th {\n",
       "        text-align: right;\n",
       "    }\n",
       "</style>\n",
       "<table border=\"1\" class=\"dataframe\">\n",
       "  <thead>\n",
       "    <tr style=\"text-align: right;\">\n",
       "      <th>summary</th>\n",
       "      <th>count</th>\n",
       "      <th>mean</th>\n",
       "      <th>stddev</th>\n",
       "      <th>CV</th>\n",
       "    </tr>\n",
       "  </thead>\n",
       "  <tbody>\n",
       "    <tr>\n",
       "      <th>delinq_2yrs</th>\n",
       "      <td>1432440.0</td>\n",
       "      <td>0.301472</td>\n",
       "      <td>0.864319</td>\n",
       "      <td>286.70</td>\n",
       "    </tr>\n",
       "    <tr>\n",
       "      <th>pub_rec</th>\n",
       "      <td>1432439.0</td>\n",
       "      <td>0.205392</td>\n",
       "      <td>0.586109</td>\n",
       "      <td>285.36</td>\n",
       "    </tr>\n",
       "    <tr>\n",
       "      <th>annual_inc</th>\n",
       "      <td>1432440.0</td>\n",
       "      <td>81034.582933</td>\n",
       "      <td>134183.356967</td>\n",
       "      <td>165.59</td>\n",
       "    </tr>\n",
       "    <tr>\n",
       "      <th>revol_bal</th>\n",
       "      <td>1432439.0</td>\n",
       "      <td>16846.678102</td>\n",
       "      <td>23301.014583</td>\n",
       "      <td>138.31</td>\n",
       "    </tr>\n",
       "    <tr>\n",
       "      <th>dti</th>\n",
       "      <td>1430856.0</td>\n",
       "      <td>19.211873</td>\n",
       "      <td>15.972775</td>\n",
       "      <td>83.14</td>\n",
       "    </tr>\n",
       "    <tr>\n",
       "      <th>loan_amnt</th>\n",
       "      <td>1432440.0</td>\n",
       "      <td>15370.388358</td>\n",
       "      <td>9646.026272</td>\n",
       "      <td>62.76</td>\n",
       "    </tr>\n",
       "    <tr>\n",
       "      <th>installment</th>\n",
       "      <td>1432440.0</td>\n",
       "      <td>456.687815</td>\n",
       "      <td>281.713442</td>\n",
       "      <td>61.69</td>\n",
       "    </tr>\n",
       "    <tr>\n",
       "      <th>total_acc</th>\n",
       "      <td>1432440.0</td>\n",
       "      <td>23.602901</td>\n",
       "      <td>12.040983</td>\n",
       "      <td>51.01</td>\n",
       "    </tr>\n",
       "    <tr>\n",
       "      <th>open_acc</th>\n",
       "      <td>1432440.0</td>\n",
       "      <td>11.710319</td>\n",
       "      <td>5.841056</td>\n",
       "      <td>49.88</td>\n",
       "    </tr>\n",
       "    <tr>\n",
       "      <th>term</th>\n",
       "      <td>1432440.0</td>\n",
       "      <td>NaN</td>\n",
       "      <td>NaN</td>\n",
       "      <td>NaN</td>\n",
       "    </tr>\n",
       "    <tr>\n",
       "      <th>int_rate</th>\n",
       "      <td>1432440.0</td>\n",
       "      <td>NaN</td>\n",
       "      <td>NaN</td>\n",
       "      <td>NaN</td>\n",
       "    </tr>\n",
       "    <tr>\n",
       "      <th>grade</th>\n",
       "      <td>1432440.0</td>\n",
       "      <td>NaN</td>\n",
       "      <td>NaN</td>\n",
       "      <td>NaN</td>\n",
       "    </tr>\n",
       "    <tr>\n",
       "      <th>emp_length</th>\n",
       "      <td>1432440.0</td>\n",
       "      <td>NaN</td>\n",
       "      <td>NaN</td>\n",
       "      <td>NaN</td>\n",
       "    </tr>\n",
       "    <tr>\n",
       "      <th>home_ownership</th>\n",
       "      <td>1432440.0</td>\n",
       "      <td>NaN</td>\n",
       "      <td>NaN</td>\n",
       "      <td>NaN</td>\n",
       "    </tr>\n",
       "    <tr>\n",
       "      <th>verification_status</th>\n",
       "      <td>1432440.0</td>\n",
       "      <td>NaN</td>\n",
       "      <td>NaN</td>\n",
       "      <td>NaN</td>\n",
       "    </tr>\n",
       "    <tr>\n",
       "      <th>loan_status</th>\n",
       "      <td>1432440.0</td>\n",
       "      <td>NaN</td>\n",
       "      <td>NaN</td>\n",
       "      <td>NaN</td>\n",
       "    </tr>\n",
       "    <tr>\n",
       "      <th>purpose</th>\n",
       "      <td>1432440.0</td>\n",
       "      <td>NaN</td>\n",
       "      <td>NaN</td>\n",
       "      <td>NaN</td>\n",
       "    </tr>\n",
       "    <tr>\n",
       "      <th>addr_state</th>\n",
       "      <td>1432440.0</td>\n",
       "      <td>NaN</td>\n",
       "      <td>NaN</td>\n",
       "      <td>NaN</td>\n",
       "    </tr>\n",
       "    <tr>\n",
       "      <th>earliest_cr_line</th>\n",
       "      <td>1432440.0</td>\n",
       "      <td>NaN</td>\n",
       "      <td>NaN</td>\n",
       "      <td>NaN</td>\n",
       "    </tr>\n",
       "    <tr>\n",
       "      <th>revol_util</th>\n",
       "      <td>1431251.0</td>\n",
       "      <td>19.000000</td>\n",
       "      <td>NaN</td>\n",
       "      <td>NaN</td>\n",
       "    </tr>\n",
       "    <tr>\n",
       "      <th>issue_d</th>\n",
       "      <td>1432440.0</td>\n",
       "      <td>NaN</td>\n",
       "      <td>NaN</td>\n",
       "      <td>NaN</td>\n",
       "    </tr>\n",
       "  </tbody>\n",
       "</table>\n",
       "</div>"
      ],
      "text/plain": [
       "summary                  count          mean         stddev      CV\n",
       "delinq_2yrs          1432440.0      0.301472       0.864319  286.70\n",
       "pub_rec              1432439.0      0.205392       0.586109  285.36\n",
       "annual_inc           1432440.0  81034.582933  134183.356967  165.59\n",
       "revol_bal            1432439.0  16846.678102   23301.014583  138.31\n",
       "dti                  1430856.0     19.211873      15.972775   83.14\n",
       "loan_amnt            1432440.0  15370.388358    9646.026272   62.76\n",
       "installment          1432440.0    456.687815     281.713442   61.69\n",
       "total_acc            1432440.0     23.602901      12.040983   51.01\n",
       "open_acc             1432440.0     11.710319       5.841056   49.88\n",
       "term                 1432440.0           NaN            NaN     NaN\n",
       "int_rate             1432440.0           NaN            NaN     NaN\n",
       "grade                1432440.0           NaN            NaN     NaN\n",
       "emp_length           1432440.0           NaN            NaN     NaN\n",
       "home_ownership       1432440.0           NaN            NaN     NaN\n",
       "verification_status  1432440.0           NaN            NaN     NaN\n",
       "loan_status          1432440.0           NaN            NaN     NaN\n",
       "purpose              1432440.0           NaN            NaN     NaN\n",
       "addr_state           1432440.0           NaN            NaN     NaN\n",
       "earliest_cr_line     1432440.0           NaN            NaN     NaN\n",
       "revol_util           1431251.0     19.000000            NaN     NaN\n",
       "issue_d              1432440.0           NaN            NaN     NaN"
      ]
     },
     "execution_count": 143,
     "metadata": {},
     "output_type": "execute_result"
    }
   ],
   "source": [
    "# Spark และ Pandas ร่วมกันคำนวณ Coefficient of Variation (CV)\n",
    "\n",
    "basicStat_pd = raw_df.describe().toPandas().transpose()\n",
    "\n",
    "header_series = basicStat_pd.iloc[0]\n",
    "\n",
    "noColBasicStat_pd = basicStat_pd[1:]\n",
    "\n",
    "noColBasicStat_pd.columns = header_series\n",
    "\n",
    "basicStat_pd = noColBasicStat_pd\n",
    "\n",
    "basicStat_pd = basicStat_pd[['count','mean','stddev']].astype('float64')\n",
    "\n",
    "basicStat_pd = basicStat_pd.assign(CV=lambda x: round((x['stddev']/x['mean'])*100,2))\\\n",
    ".sort_values('CV',ascending=False)\n",
    "basicStat_pd"
   ]
  },
  {
   "cell_type": "code",
   "execution_count": 144,
   "id": "fe8c2a0b",
   "metadata": {},
   "outputs": [
    {
     "data": {
      "text/html": [
       "<div>\n",
       "<style scoped>\n",
       "    .dataframe tbody tr th:only-of-type {\n",
       "        vertical-align: middle;\n",
       "    }\n",
       "\n",
       "    .dataframe tbody tr th {\n",
       "        vertical-align: top;\n",
       "    }\n",
       "\n",
       "    .dataframe thead th {\n",
       "        text-align: right;\n",
       "    }\n",
       "</style>\n",
       "<table border=\"1\" class=\"dataframe\">\n",
       "  <thead>\n",
       "    <tr style=\"text-align: right;\">\n",
       "      <th>summary</th>\n",
       "      <th>count</th>\n",
       "      <th>mean</th>\n",
       "      <th>stddev</th>\n",
       "      <th>CV</th>\n",
       "    </tr>\n",
       "  </thead>\n",
       "  <tbody>\n",
       "    <tr>\n",
       "      <th>delinq_2yrs</th>\n",
       "      <td>1432440.0</td>\n",
       "      <td>0.301472</td>\n",
       "      <td>0.864319</td>\n",
       "      <td>286.70</td>\n",
       "    </tr>\n",
       "    <tr>\n",
       "      <th>pub_rec</th>\n",
       "      <td>1432439.0</td>\n",
       "      <td>0.205392</td>\n",
       "      <td>0.586109</td>\n",
       "      <td>285.36</td>\n",
       "    </tr>\n",
       "    <tr>\n",
       "      <th>annual_inc</th>\n",
       "      <td>1432440.0</td>\n",
       "      <td>81034.582933</td>\n",
       "      <td>134183.356967</td>\n",
       "      <td>165.59</td>\n",
       "    </tr>\n",
       "    <tr>\n",
       "      <th>revol_bal</th>\n",
       "      <td>1432439.0</td>\n",
       "      <td>16846.678102</td>\n",
       "      <td>23301.014583</td>\n",
       "      <td>138.31</td>\n",
       "    </tr>\n",
       "  </tbody>\n",
       "</table>\n",
       "</div>"
      ],
      "text/plain": [
       "summary          count          mean         stddev      CV\n",
       "delinq_2yrs  1432440.0      0.301472       0.864319  286.70\n",
       "pub_rec      1432439.0      0.205392       0.586109  285.36\n",
       "annual_inc   1432440.0  81034.582933  134183.356967  165.59\n",
       "revol_bal    1432439.0  16846.678102   23301.014583  138.31"
      ]
     },
     "execution_count": 144,
     "metadata": {},
     "output_type": "execute_result"
    }
   ],
   "source": [
    "# Spark และ Pandas ร่วมกันกรองออกมาเฉพาะ CV ที่เกิน DISPERSION_PERC\n",
    "\n",
    "basicStat_pd[basicStat_pd.assign(CV=lambda x: round((x['stddev']/x['mean'])*100,2))\\\n",
    ".sort_values('CV',ascending=False)['CV']>DISPERSION_PERC]"
   ]
  },
  {
   "cell_type": "code",
   "execution_count": 145,
   "id": "bd1362d6",
   "metadata": {},
   "outputs": [],
   "source": [
    "# Spark และ Pandas ได้รับรายชื่อ Col. ที่มี Dispersion เกินกว่าค่า DISPERSION_PERC\n",
    "HIGHDISPERSION_LIST = basicStat_pd[basicStat_pd.assign(CV=lambda x: round((x['stddev']/x['mean'])*100,2))\\\n",
    ".sort_values('CV',ascending=False)['CV']>DISPERSION_PERC][:].axes[0].values.tolist()"
   ]
  },
  {
   "cell_type": "code",
   "execution_count": 146,
   "id": "b064a993",
   "metadata": {},
   "outputs": [
    {
     "data": {
      "text/plain": [
       "['delinq_2yrs', 'pub_rec', 'annual_inc', 'revol_bal']"
      ]
     },
     "execution_count": 146,
     "metadata": {},
     "output_type": "execute_result"
    }
   ],
   "source": [
    "HIGHDISPERSION_LIST"
   ]
  },
  {
   "cell_type": "code",
   "execution_count": 147,
   "id": "51becf7a",
   "metadata": {},
   "outputs": [
    {
     "data": {
      "text/plain": [
       "1432466"
      ]
     },
     "execution_count": 147,
     "metadata": {},
     "output_type": "execute_result"
    }
   ],
   "source": [
    "raw_df.count()"
   ]
  },
  {
   "cell_type": "code",
   "execution_count": 148,
   "id": "f9a4325d",
   "metadata": {},
   "outputs": [
    {
     "data": {
      "text/html": [
       "<div>\n",
       "<style scoped>\n",
       "    .dataframe tbody tr th:only-of-type {\n",
       "        vertical-align: middle;\n",
       "    }\n",
       "\n",
       "    .dataframe tbody tr th {\n",
       "        vertical-align: top;\n",
       "    }\n",
       "\n",
       "    .dataframe thead th {\n",
       "        text-align: right;\n",
       "    }\n",
       "</style>\n",
       "<table border=\"1\" class=\"dataframe\">\n",
       "  <thead>\n",
       "    <tr style=\"text-align: right;\">\n",
       "      <th>summary</th>\n",
       "      <th>count</th>\n",
       "      <th>mean</th>\n",
       "      <th>stddev</th>\n",
       "      <th>CV</th>\n",
       "      <th>percentageNull</th>\n",
       "    </tr>\n",
       "  </thead>\n",
       "  <tbody>\n",
       "    <tr>\n",
       "      <th>dti</th>\n",
       "      <td>1430856.0</td>\n",
       "      <td>19.211873</td>\n",
       "      <td>15.972775</td>\n",
       "      <td>83.14</td>\n",
       "      <td>0.112394</td>\n",
       "    </tr>\n",
       "    <tr>\n",
       "      <th>revol_util</th>\n",
       "      <td>1431251.0</td>\n",
       "      <td>19.000000</td>\n",
       "      <td>NaN</td>\n",
       "      <td>NaN</td>\n",
       "      <td>0.084819</td>\n",
       "    </tr>\n",
       "    <tr>\n",
       "      <th>revol_bal</th>\n",
       "      <td>1432439.0</td>\n",
       "      <td>16846.678102</td>\n",
       "      <td>23301.014583</td>\n",
       "      <td>138.31</td>\n",
       "      <td>0.001885</td>\n",
       "    </tr>\n",
       "    <tr>\n",
       "      <th>pub_rec</th>\n",
       "      <td>1432439.0</td>\n",
       "      <td>0.205392</td>\n",
       "      <td>0.586109</td>\n",
       "      <td>285.36</td>\n",
       "      <td>0.001885</td>\n",
       "    </tr>\n",
       "    <tr>\n",
       "      <th>delinq_2yrs</th>\n",
       "      <td>1432440.0</td>\n",
       "      <td>0.301472</td>\n",
       "      <td>0.864319</td>\n",
       "      <td>286.70</td>\n",
       "      <td>0.001815</td>\n",
       "    </tr>\n",
       "    <tr>\n",
       "      <th>emp_length</th>\n",
       "      <td>1432440.0</td>\n",
       "      <td>NaN</td>\n",
       "      <td>NaN</td>\n",
       "      <td>NaN</td>\n",
       "      <td>0.001815</td>\n",
       "    </tr>\n",
       "    <tr>\n",
       "      <th>earliest_cr_line</th>\n",
       "      <td>1432440.0</td>\n",
       "      <td>NaN</td>\n",
       "      <td>NaN</td>\n",
       "      <td>NaN</td>\n",
       "      <td>0.001815</td>\n",
       "    </tr>\n",
       "    <tr>\n",
       "      <th>addr_state</th>\n",
       "      <td>1432440.0</td>\n",
       "      <td>NaN</td>\n",
       "      <td>NaN</td>\n",
       "      <td>NaN</td>\n",
       "      <td>0.001815</td>\n",
       "    </tr>\n",
       "    <tr>\n",
       "      <th>purpose</th>\n",
       "      <td>1432440.0</td>\n",
       "      <td>NaN</td>\n",
       "      <td>NaN</td>\n",
       "      <td>NaN</td>\n",
       "      <td>0.001815</td>\n",
       "    </tr>\n",
       "    <tr>\n",
       "      <th>loan_status</th>\n",
       "      <td>1432440.0</td>\n",
       "      <td>NaN</td>\n",
       "      <td>NaN</td>\n",
       "      <td>NaN</td>\n",
       "      <td>0.001815</td>\n",
       "    </tr>\n",
       "    <tr>\n",
       "      <th>verification_status</th>\n",
       "      <td>1432440.0</td>\n",
       "      <td>NaN</td>\n",
       "      <td>NaN</td>\n",
       "      <td>NaN</td>\n",
       "      <td>0.001815</td>\n",
       "    </tr>\n",
       "    <tr>\n",
       "      <th>home_ownership</th>\n",
       "      <td>1432440.0</td>\n",
       "      <td>NaN</td>\n",
       "      <td>NaN</td>\n",
       "      <td>NaN</td>\n",
       "      <td>0.001815</td>\n",
       "    </tr>\n",
       "    <tr>\n",
       "      <th>int_rate</th>\n",
       "      <td>1432440.0</td>\n",
       "      <td>NaN</td>\n",
       "      <td>NaN</td>\n",
       "      <td>NaN</td>\n",
       "      <td>0.001815</td>\n",
       "    </tr>\n",
       "    <tr>\n",
       "      <th>grade</th>\n",
       "      <td>1432440.0</td>\n",
       "      <td>NaN</td>\n",
       "      <td>NaN</td>\n",
       "      <td>NaN</td>\n",
       "      <td>0.001815</td>\n",
       "    </tr>\n",
       "    <tr>\n",
       "      <th>term</th>\n",
       "      <td>1432440.0</td>\n",
       "      <td>NaN</td>\n",
       "      <td>NaN</td>\n",
       "      <td>NaN</td>\n",
       "      <td>0.001815</td>\n",
       "    </tr>\n",
       "    <tr>\n",
       "      <th>open_acc</th>\n",
       "      <td>1432440.0</td>\n",
       "      <td>11.710319</td>\n",
       "      <td>5.841056</td>\n",
       "      <td>49.88</td>\n",
       "      <td>0.001815</td>\n",
       "    </tr>\n",
       "    <tr>\n",
       "      <th>total_acc</th>\n",
       "      <td>1432440.0</td>\n",
       "      <td>23.602901</td>\n",
       "      <td>12.040983</td>\n",
       "      <td>51.01</td>\n",
       "      <td>0.001815</td>\n",
       "    </tr>\n",
       "    <tr>\n",
       "      <th>installment</th>\n",
       "      <td>1432440.0</td>\n",
       "      <td>456.687815</td>\n",
       "      <td>281.713442</td>\n",
       "      <td>61.69</td>\n",
       "      <td>0.001815</td>\n",
       "    </tr>\n",
       "    <tr>\n",
       "      <th>loan_amnt</th>\n",
       "      <td>1432440.0</td>\n",
       "      <td>15370.388358</td>\n",
       "      <td>9646.026272</td>\n",
       "      <td>62.76</td>\n",
       "      <td>0.001815</td>\n",
       "    </tr>\n",
       "    <tr>\n",
       "      <th>annual_inc</th>\n",
       "      <td>1432440.0</td>\n",
       "      <td>81034.582933</td>\n",
       "      <td>134183.356967</td>\n",
       "      <td>165.59</td>\n",
       "      <td>0.001815</td>\n",
       "    </tr>\n",
       "    <tr>\n",
       "      <th>issue_d</th>\n",
       "      <td>1432440.0</td>\n",
       "      <td>NaN</td>\n",
       "      <td>NaN</td>\n",
       "      <td>NaN</td>\n",
       "      <td>0.001815</td>\n",
       "    </tr>\n",
       "  </tbody>\n",
       "</table>\n",
       "</div>"
      ],
      "text/plain": [
       "summary                  count          mean         stddev      CV  \\\n",
       "dti                  1430856.0     19.211873      15.972775   83.14   \n",
       "revol_util           1431251.0     19.000000            NaN     NaN   \n",
       "revol_bal            1432439.0  16846.678102   23301.014583  138.31   \n",
       "pub_rec              1432439.0      0.205392       0.586109  285.36   \n",
       "delinq_2yrs          1432440.0      0.301472       0.864319  286.70   \n",
       "emp_length           1432440.0           NaN            NaN     NaN   \n",
       "earliest_cr_line     1432440.0           NaN            NaN     NaN   \n",
       "addr_state           1432440.0           NaN            NaN     NaN   \n",
       "purpose              1432440.0           NaN            NaN     NaN   \n",
       "loan_status          1432440.0           NaN            NaN     NaN   \n",
       "verification_status  1432440.0           NaN            NaN     NaN   \n",
       "home_ownership       1432440.0           NaN            NaN     NaN   \n",
       "int_rate             1432440.0           NaN            NaN     NaN   \n",
       "grade                1432440.0           NaN            NaN     NaN   \n",
       "term                 1432440.0           NaN            NaN     NaN   \n",
       "open_acc             1432440.0     11.710319       5.841056   49.88   \n",
       "total_acc            1432440.0     23.602901      12.040983   51.01   \n",
       "installment          1432440.0    456.687815     281.713442   61.69   \n",
       "loan_amnt            1432440.0  15370.388358    9646.026272   62.76   \n",
       "annual_inc           1432440.0  81034.582933  134183.356967  165.59   \n",
       "issue_d              1432440.0           NaN            NaN     NaN   \n",
       "\n",
       "summary              percentageNull  \n",
       "dti                        0.112394  \n",
       "revol_util                 0.084819  \n",
       "revol_bal                  0.001885  \n",
       "pub_rec                    0.001885  \n",
       "delinq_2yrs                0.001815  \n",
       "emp_length                 0.001815  \n",
       "earliest_cr_line           0.001815  \n",
       "addr_state                 0.001815  \n",
       "purpose                    0.001815  \n",
       "loan_status                0.001815  \n",
       "verification_status        0.001815  \n",
       "home_ownership             0.001815  \n",
       "int_rate                   0.001815  \n",
       "grade                      0.001815  \n",
       "term                       0.001815  \n",
       "open_acc                   0.001815  \n",
       "total_acc                  0.001815  \n",
       "installment                0.001815  \n",
       "loan_amnt                  0.001815  \n",
       "annual_inc                 0.001815  \n",
       "issue_d                    0.001815  "
      ]
     },
     "execution_count": 148,
     "metadata": {},
     "output_type": "execute_result"
    }
   ],
   "source": [
    "#วิเคราะห์ NULL\n",
    "\n",
    "basicStat_pd.assign(percentageNull=lambda x: ((allRows_count-x['count'])/allRows_count)*100)\\\n",
    ".sort_values('percentageNull',ascending=False)"
   ]
  },
  {
   "cell_type": "raw",
   "id": "9ee70285",
   "metadata": {},
   "source": [
    "#วิเคราะห์ NULL\n",
    "\n",
    "basicStat_pd.assign(percentageNull=lambda x: round(((allRows_count-x['count'])/allRows_count)*100,2))\\\n",
    ".sort_values('percentageNull',ascending=False)"
   ]
  },
  {
   "cell_type": "code",
   "execution_count": 149,
   "id": "d2d292ea",
   "metadata": {},
   "outputs": [],
   "source": [
    "# Spark และ Pandas ได้รับรายชื่อ Col. ที่มี Null เกินกว่าค่า NULL_PERC\n",
    "\n",
    "HIGHNULL_LIST = basicStat_pd[basicStat_pd.assign(percentageNull=lambda x: ((allRows_count-x['count'])/allRows_count)*100)\\\n",
    ".sort_values('percentageNull',ascending=False)['percentageNull']>NULL_PERC][:].axes[0].values.tolist()"
   ]
  },
  {
   "cell_type": "raw",
   "id": "4bdad6b7",
   "metadata": {},
   "source": [
    "# Spark และ Pandas ได้รับรายชื่อ Col. ที่มี Null เกินกว่าค่า NULL_PERC\n",
    "\n",
    "HIGHNULL_LIST = basicStat_pd[basicStat_pd.assign(percentageNull=lambda x: round(((allRows_count-x['count'])/allRows_count)*100,2))\\\n",
    ".sort_values('percentageNull',ascending=False)['percentageNull']>NULL_PERC][:].axes[0].values.tolist()"
   ]
  },
  {
   "cell_type": "code",
   "execution_count": 150,
   "id": "88000e86",
   "metadata": {},
   "outputs": [
    {
     "data": {
      "text/plain": [
       "['dti']"
      ]
     },
     "execution_count": 150,
     "metadata": {},
     "output_type": "execute_result"
    }
   ],
   "source": [
    "HIGHNULL_LIST"
   ]
  },
  {
   "cell_type": "code",
   "execution_count": 151,
   "id": "58088e52",
   "metadata": {},
   "outputs": [],
   "source": [
    "# Spark และ Pandas ได้รับรายชื่อ Col. ที่มี Null \n",
    "NULL_LIST = basicStat_pd[basicStat_pd.assign(countNull=lambda x: allRows_count-x['count'])\\\n",
    ".sort_values('countNull',ascending=False)['countNull']>0][:].axes[0].values.tolist()"
   ]
  },
  {
   "cell_type": "code",
   "execution_count": 152,
   "id": "46a01670",
   "metadata": {},
   "outputs": [
    {
     "name": "stderr",
     "output_type": "stream",
     "text": [
      "                                                                                \r"
     ]
    },
    {
     "name": "stdout",
     "output_type": "stream",
     "text": [
      "+------------------+------+\n",
      "|       loan_status| count|\n",
      "+------------------+------+\n",
      "|        Fully Paid|583755|\n",
      "|           Default|  1419|\n",
      "|              null|    26|\n",
      "|   In Grace Period|  6136|\n",
      "|       Charged Off|152999|\n",
      "|Late (31-120 days)| 19455|\n",
      "|           Current|663690|\n",
      "| Late (16-30 days)|  4986|\n",
      "+------------------+------+\n",
      "\n"
     ]
    }
   ],
   "source": [
    "# Spark วิเคราะห์ Imbalance Class\n",
    "\n",
    "raw_df.groupBy('loan_status').count().show()"
   ]
  },
  {
   "cell_type": "code",
   "execution_count": 153,
   "id": "8dd271f6",
   "metadata": {},
   "outputs": [
    {
     "name": "stderr",
     "output_type": "stream",
     "text": [
      "                                                                                \r"
     ]
    },
    {
     "name": "stdout",
     "output_type": "stream",
     "text": [
      "+------------------+\n",
      "|       loan_status|\n",
      "+------------------+\n",
      "|        Fully Paid|\n",
      "|           Default|\n",
      "|              null|\n",
      "|   In Grace Period|\n",
      "|       Charged Off|\n",
      "|Late (31-120 days)|\n",
      "|           Current|\n",
      "| Late (16-30 days)|\n",
      "+------------------+\n",
      "\n"
     ]
    }
   ],
   "source": [
    "raw_df.select('loan_status').distinct().show()"
   ]
  },
  {
   "cell_type": "code",
   "execution_count": 154,
   "id": "35ddb494",
   "metadata": {},
   "outputs": [
    {
     "name": "stdout",
     "output_type": "stream",
     "text": [
      "root\n",
      " |-- loan_amnt: integer (nullable = true)\n",
      " |-- term: string (nullable = true)\n",
      " |-- int_rate: string (nullable = true)\n",
      " |-- installment: double (nullable = true)\n",
      " |-- grade: string (nullable = true)\n",
      " |-- emp_length: string (nullable = true)\n",
      " |-- home_ownership: string (nullable = true)\n",
      " |-- annual_inc: double (nullable = true)\n",
      " |-- verification_status: string (nullable = true)\n",
      " |-- loan_status: string (nullable = true)\n",
      " |-- purpose: string (nullable = true)\n",
      " |-- addr_state: string (nullable = true)\n",
      " |-- dti: string (nullable = true)\n",
      " |-- delinq_2yrs: string (nullable = true)\n",
      " |-- earliest_cr_line: string (nullable = true)\n",
      " |-- open_acc: integer (nullable = true)\n",
      " |-- pub_rec: integer (nullable = true)\n",
      " |-- revol_bal: integer (nullable = true)\n",
      " |-- revol_util: string (nullable = true)\n",
      " |-- total_acc: integer (nullable = true)\n",
      " |-- issue_d: string (nullable = true)\n",
      "\n"
     ]
    }
   ],
   "source": [
    "raw_df.printSchema()"
   ]
  },
  {
   "cell_type": "code",
   "execution_count": 155,
   "id": "e57a07a6",
   "metadata": {},
   "outputs": [
    {
     "name": "stderr",
     "output_type": "stream",
     "text": [
      "[Stage 501:============================================>            (7 + 2) / 9]\r"
     ]
    },
    {
     "name": "stdout",
     "output_type": "stream",
     "text": [
      "+---------+----------+------------------+-------------------+-----+\n",
      "|loan_amnt|annual_inc|               dti|      calculatedDTI|count|\n",
      "+---------+----------+------------------+-------------------+-----+\n",
      "|     8800|   65000.0|Debt consolidation|0.13538461538461538|    1|\n",
      "|    15600|    1000.0|               999|               15.6|    1|\n",
      "|    17500|    1158.0|               999| 15.112262521588946|    1|\n",
      "|    13900|     191.0|               999|  72.77486910994764|    1|\n",
      "|     3750|     500.0|               999|                7.5|    1|\n",
      "|    12000|    1680.6|               999|  7.140307033202428|    1|\n",
      "|    30000|      25.0|               999|             1200.0|    1|\n",
      "|    10250|      33.0|               999|  310.6060606060606|    1|\n",
      "|    10000|      36.0|               999| 277.77777777777777|    1|\n",
      "|    20000|    1500.0|               999| 13.333333333333334|    1|\n",
      "|    35000|    1000.0|               999|               35.0|    7|\n",
      "|    15000|    2000.0|               999|                7.5|    1|\n",
      "|    11400|      50.0|               999|              228.0|    1|\n",
      "|    37000|    2500.0|               999|               14.8|    1|\n",
      "|    20375|      32.0|               999|          636.71875|    1|\n",
      "|    40000|     445.0|               999|  89.88764044943821|    1|\n",
      "|    10000|     700.0|               999| 14.285714285714286|    2|\n",
      "|     8000|     800.0|               999|               10.0|    1|\n",
      "|    10000|     420.0|               999|  23.80952380952381|    1|\n",
      "|    40000|     938.0|               999| 42.643923240938165|    1|\n",
      "+---------+----------+------------------+-------------------+-----+\n",
      "only showing top 20 rows\n",
      "\n"
     ]
    },
    {
     "name": "stderr",
     "output_type": "stream",
     "text": [
      "                                                                                \r"
     ]
    }
   ],
   "source": [
    "raw_df.withColumn('calculatedDTI',sparkf.col('loan_amnt')/sparkf.col('annual_inc'))\\\n",
    ".select('loan_amnt','annual_inc','dti','calculatedDTI').groupBy('loan_amnt','annual_inc','dti','calculatedDTI').count()\\\n",
    ".orderBy('dti', ascending=False).show()\n",
    "\n",
    "### ค่า dti เชื่อถือได้หรือไม่"
   ]
  },
  {
   "cell_type": "code",
   "execution_count": 156,
   "id": "b24860ae",
   "metadata": {},
   "outputs": [
    {
     "name": "stderr",
     "output_type": "stream",
     "text": [
      "[Stage 504:>                                                        (0 + 1) / 1]\r"
     ]
    },
    {
     "name": "stdout",
     "output_type": "stream",
     "text": [
      "+---------+----------+----+-------------+\n",
      "|loan_amnt|annual_inc| dti|calculatedDTI|\n",
      "+---------+----------+----+-------------+\n",
      "|     2500|       0.0|null|         null|\n",
      "|    12000|       0.0|null|         null|\n",
      "|    15000|       0.0|null|         null|\n",
      "|     9100|       0.0|null|         null|\n",
      "|    17500|       0.0|null|         null|\n",
      "|    18000|       0.0|null|         null|\n",
      "|     5000|       0.0|null|         null|\n",
      "|     8400|       0.0|null|         null|\n",
      "|    20000|       0.0|null|         null|\n",
      "|    15000|       0.0|null|         null|\n",
      "|    17600|       0.0|null|         null|\n",
      "|    16500|       0.0|null|         null|\n",
      "|    24975|       0.0|null|         null|\n",
      "|     9900|       0.0|null|         null|\n",
      "|    15000|       0.0|null|         null|\n",
      "|     null|      null|null|         null|\n",
      "|     null|      null|null|         null|\n",
      "|    12000|       0.0|null|         null|\n",
      "|    15000|       0.0|null|         null|\n",
      "|    20000|       0.0|null|         null|\n",
      "+---------+----------+----+-------------+\n",
      "only showing top 20 rows\n",
      "\n"
     ]
    },
    {
     "name": "stderr",
     "output_type": "stream",
     "text": [
      "                                                                                \r"
     ]
    }
   ],
   "source": [
    "raw_df.withColumn('calculatedDTI',sparkf.col('loan_amnt')/sparkf.col('annual_inc'))\\\n",
    ".select('loan_amnt','annual_inc','dti','calculatedDTI').filter(sparkf.col('calculatedDTI').isNull()).show()\n",
    "\n",
    "#### พบว่า มี annual_inc = 0 แต่ได้รับเงินกู้ ซึ่งไม่ควรให้ ML จดจำ pattern แบบนี้ไปใช้**"
   ]
  },
  {
   "cell_type": "markdown",
   "id": "63eb98ca",
   "metadata": {},
   "source": [
    "### 2.2 Bivariate/Multivariate Analysis"
   ]
  },
  {
   "cell_type": "code",
   "execution_count": 157,
   "id": "34146cd3",
   "metadata": {},
   "outputs": [
    {
     "name": "stderr",
     "output_type": "stream",
     "text": [
      "                                                                                \r"
     ]
    },
    {
     "data": {
      "image/png": "[encoded data removed]",
      "text/plain": [
       "<Figure size 1080x270 with 2 Axes>"
      ]
     },
     "metadata": {},
     "output_type": "display_data"
    }
   ],
   "source": [
    "# Spark และ Python ร่วมกันวิเคราะห์หา Distribution (Shape), Outlier และ Correlation ด้วยการใช้เทคนิค Histogram, Boxplot\n",
    "\n",
    "plot_var(raw_df.filter(sparkf.col('annual_inc') == 0).toPandas(),'loan_amnt', 'Loan Amount', continuous=True)\n",
    "\n",
    "### แสดงการแจกแจงความถี่ของ Loan Amount และความสัมพันธ์ระหว่าง Loan Amount กับ Loan Status เฉพาะลูกหนี้ที่ไม่มีรายได้"
   ]
  },
  {
   "cell_type": "code",
   "execution_count": 158,
   "id": "672b1636",
   "metadata": {},
   "outputs": [
    {
     "name": "stderr",
     "output_type": "stream",
     "text": [
      "                                                                                \r"
     ]
    },
    {
     "data": {
      "image/png": "[encoded data removed]",
      "text/plain": [
       "<Figure size 1080x270 with 2 Axes>"
      ]
     },
     "metadata": {},
     "output_type": "display_data"
    }
   ],
   "source": [
    "plot_var(raw_df.filter(sparkf.col('annual_inc') != 0).toPandas(),'loan_amnt', 'Loan Amount', continuous=True)\n",
    "\n",
    "### แสดงการแจกแจงความถี่ของ Loan Amount และความสัมพันธ์ระหว่าง Loan Amount กับ Loan Status เฉพาะลูกหนี้ที่มีรายได้\n",
    "\n",
    "#### เปรียบเทียบผลจาก code ก่อนหน้านี้ กับ code บรรทัดนี้ ทำให้เห็นว่า ลูกหนี้ที่ annual_inc = 0 มี median ของ loan_amnt ระหว่างคนจ่ายหนี้ครบ กับ คนเบี้ยวหนี้ ต่างกันอย่างมาก\n",
    "#### แตกต่างจาก annual_inc != 0 มี median ของ loan_amnt ระหว่างคนจ่ายหนี้ครบ กับ คนเบี้ยวหนี้ ต่างกันอยู่พอสมควร แต่ไม่มากเท่ากรณีแรก\n",
    "#### เช่นทำให้คิดต่อไปว่า หากมีข้อมูลมากพออาจแยก train เป็น 2 model คือ model สำหรับ annual_inc = 0 กับ annual_inc !=0 "
   ]
  },
  {
   "cell_type": "code",
   "execution_count": 159,
   "id": "ba9c35c6",
   "metadata": {},
   "outputs": [
    {
     "name": "stderr",
     "output_type": "stream",
     "text": [
      "                                                                                \r"
     ]
    }
   ],
   "source": [
    "# Spark และ Python ร่วมกัน นำ % sign ออกจาก revol_util เพื่อนำไปใช้วิเคราะห์ใน block code ถัดไป\n",
    "\n",
    "correctedRevolUtil_pd = raw_df.withColumn('revol_util',sparkf.when(sparkf.col('revol_util').isNotNull()\\\n",
    "                                                                   ,sparkf.regexp_replace(sparkf.col('revol_util'),'%',''))\\\n",
    "                  .otherwise(sparkf.col('revol_util')))\\\n",
    ".withColumn('revol_util',sparkf.col('revol_util').cast(FloatType())).toPandas()"
   ]
  },
  {
   "cell_type": "code",
   "execution_count": 160,
   "id": "24925ba0",
   "metadata": {},
   "outputs": [
    {
     "data": {
      "image/png": "[encoded data removed]",
      "text/plain": [
       "<Figure size 1080x270 with 2 Axes>"
      ]
     },
     "metadata": {},
     "output_type": "display_data"
    }
   ],
   "source": [
    "# Spark และ Python ร่วมกันวิเคราะห์หา Distribution (Shape), Outlier และ Correlation ด้วยการใช้เทคนิค Histogram, Boxplot\n",
    "\n",
    "plot_var(correctedRevolUtil_pd,'revol_util', 'revol_util', continuous=True)"
   ]
  },
  {
   "cell_type": "code",
   "execution_count": null,
   "id": "5240f0eb",
   "metadata": {},
   "outputs": [],
   "source": []
  },
  {
   "cell_type": "code",
   "execution_count": 161,
   "id": "3c0f1457",
   "metadata": {},
   "outputs": [
    {
     "name": "stderr",
     "output_type": "stream",
     "text": [
      "                                                                                \r"
     ]
    }
   ],
   "source": [
    "#### Spark และ Python ร่วมกัน นำ % sign ออกจาก revol_util และเอา outlier ทิ้งไป เพื่อนำไปใช้วิเคราะห์ใน block code ถัดไป\n",
    "\n",
    "noOutlier_correctedRevolUtil_pd = raw_df.withColumn('revol_util',sparkf.when(sparkf.col('revol_util').isNotNull()\\\n",
    "                                                                   ,sparkf.regexp_replace(sparkf.col('revol_util'),'%',''))\\\n",
    "                  .otherwise(sparkf.col('revol_util')))\\\n",
    ".withColumn('revol_util',sparkf.col('revol_util').cast(FloatType()))\\\n",
    ".filter(sparkf.col('revol_util') < 120)\\\n",
    ".toPandas()"
   ]
  },
  {
   "cell_type": "code",
   "execution_count": 162,
   "id": "c433e3d9",
   "metadata": {},
   "outputs": [
    {
     "data": {
      "image/png": "[encoded data removed]",
      "text/plain": [
       "<Figure size 1080x270 with 2 Axes>"
      ]
     },
     "metadata": {},
     "output_type": "display_data"
    }
   ],
   "source": [
    "#### Spark และ Python ร่วมกันวิเคราะห์หา Distribution (Shape), Outlier และ Correlation ด้วยการใช้เทคนิค Histogram, Boxplot\n",
    "\n",
    "plot_var(noOutlier_correctedRevolUtil_pd,'revol_util', 'revol_util', continuous=True) ##กรณีนี้ไม่มี outlier ที่ revol util แล้ว"
   ]
  },
  {
   "cell_type": "code",
   "execution_count": null,
   "id": "d40471b9",
   "metadata": {},
   "outputs": [],
   "source": []
  },
  {
   "cell_type": "code",
   "execution_count": null,
   "id": "e25c31e5",
   "metadata": {},
   "outputs": [],
   "source": []
  },
  {
   "cell_type": "code",
   "execution_count": null,
   "id": "29c38f8c",
   "metadata": {},
   "outputs": [],
   "source": []
  },
  {
   "cell_type": "code",
   "execution_count": 163,
   "id": "3c5a18f9",
   "metadata": {},
   "outputs": [
    {
     "name": "stderr",
     "output_type": "stream",
     "text": [
      "                                                                                \r"
     ]
    }
   ],
   "source": [
    "# Spark และ Python ร่วมกัน casting type ที่ delinq_2yrs เพื่อนำไปใช้วิเคราะห์ใน block code ถัดไป\n",
    "\n",
    "correctedDelinq_2yrs_pd = raw_df.withColumn('delinq_2yrs',sparkf.col('delinq_2yrs').cast(FloatType())).toPandas()"
   ]
  },
  {
   "cell_type": "code",
   "execution_count": 164,
   "id": "b913901a",
   "metadata": {},
   "outputs": [
    {
     "data": {
      "image/png": "[encoded data removed]",
      "text/plain": [
       "<Figure size 1080x270 with 2 Axes>"
      ]
     },
     "metadata": {},
     "output_type": "display_data"
    }
   ],
   "source": [
    "# Spark และ Python ร่วมกันวิเคราะห์หา Distribution (Shape), Outlier และ Correlation ด้วยการใช้เทคนิค Histogram, Boxplot\n",
    "\n",
    "plot_var(correctedDelinq_2yrs_pd,'delinq_2yrs', 'delinq_2yrs', continuous=True)"
   ]
  },
  {
   "cell_type": "code",
   "execution_count": 165,
   "id": "d625008b",
   "metadata": {},
   "outputs": [
    {
     "name": "stderr",
     "output_type": "stream",
     "text": [
      "[Stage 510:======================================>                  (6 + 3) / 9]\r"
     ]
    },
    {
     "name": "stdout",
     "output_type": "stream",
     "text": [
      "+-------+-------------------+\n",
      "|summary|        delinq_2yrs|\n",
      "+-------+-------------------+\n",
      "|  count|            1432439|\n",
      "|   mean|0.30147182532729144|\n",
      "| stddev| 0.8643187650693963|\n",
      "|    min|                0.0|\n",
      "|    max|               58.0|\n",
      "+-------+-------------------+\n",
      "\n"
     ]
    },
    {
     "name": "stderr",
     "output_type": "stream",
     "text": [
      "                                                                                \r"
     ]
    }
   ],
   "source": [
    "raw_df.withColumn('delinq_2yrs',sparkf.col('delinq_2yrs').cast(FloatType())).select('delinq_2yrs').describe().show()"
   ]
  },
  {
   "cell_type": "code",
   "execution_count": 166,
   "id": "9ad7c6c9",
   "metadata": {},
   "outputs": [
    {
     "name": "stderr",
     "output_type": "stream",
     "text": [
      "                                                                                \r"
     ]
    }
   ],
   "source": [
    "#### Spark และ Python ร่วมกัน casting type ที่ delinq_2yrs เพื่อนำไปใช้วิเคราะห์ใน block code ถัดไป\n",
    "\n",
    "noOutlier_correctedDelinq_2yrs_pd = raw_df.withColumn('delinq_2yrs',sparkf.col('delinq_2yrs').cast(FloatType()))\\\n",
    ".filter(sparkf.col('delinq_2yrs')<1.0).toPandas()"
   ]
  },
  {
   "cell_type": "code",
   "execution_count": 167,
   "id": "b2d08b55",
   "metadata": {},
   "outputs": [
    {
     "data": {
      "image/png": "[encoded data removed]",
      "text/plain": [
       "<Figure size 1080x270 with 2 Axes>"
      ]
     },
     "metadata": {},
     "output_type": "display_data"
    }
   ],
   "source": [
    "#### Spark และ Python ร่วมกันวิเคราะห์หา Distribution (Shape), Outlier และ Correlation ด้วยการใช้เทคนิค Histogram, Boxplot\n",
    "\n",
    "plot_var(noOutlier_correctedDelinq_2yrs_pd,'delinq_2yrs', 'delinq_2yrs', continuous=True)"
   ]
  },
  {
   "cell_type": "code",
   "execution_count": 168,
   "id": "b5cb57b4",
   "metadata": {},
   "outputs": [],
   "source": [
    "#raw_df.select('delinq_2yrs').describe().show()"
   ]
  },
  {
   "cell_type": "code",
   "execution_count": 169,
   "id": "861f62a6",
   "metadata": {},
   "outputs": [],
   "source": [
    "#raw_df.select('delinq_2yrs').withColumn('delinq_2yrs',sparkf.col('delinq_2yrs').cast(FloatType())).describe().show()"
   ]
  },
  {
   "cell_type": "markdown",
   "id": "1bf6129c",
   "metadata": {},
   "source": [
    "## 3. Data Preparation"
   ]
  },
  {
   "cell_type": "code",
   "execution_count": 170,
   "id": "1bdad925",
   "metadata": {},
   "outputs": [],
   "source": [
    "#### ใหม่ ณ 16 JAN 2023\n",
    "# ใช้ Spark ปรับแต่งค่าใน column: annual_inc, loan_status, revol_util, int_rate และ issue_d\n",
    "# ใช้ Spark สร้าง column ใหม่ขึ้นมา คือ calculatedDTI\n",
    "\n",
    "crunched_df = raw_df\\\n",
    ".filter(sparkf.col('annual_inc') != 0)\\\n",
    ".filter((sparkf.col('loan_status') == 'Fully Paid')|(sparkf.col('loan_status') == 'Charged Off'))\\\n",
    ".withColumn('calculatedDTI',sparkf.col('loan_amnt')/sparkf.col('annual_inc'))\\\n",
    ".withColumn('revol_util',sparkf.when(sparkf.col('revol_util').isNotNull(),sparkf.regexp_replace(sparkf.col('revol_util'),'%',''))\\\n",
    "                  .otherwise(sparkf.col('revol_util')))\\\n",
    ".filter(sparkf.col('revol_util') < 120)\\\n",
    ".withColumn('int_rate',sparkf.when(sparkf.col('int_rate').isNotNull(),sparkf.regexp_replace(sparkf.col('int_rate'),'%',''))\\\n",
    "                  .otherwise(sparkf.col('int_rate')))\\\n",
    ".withColumn('issue_d',sparkf.regexp_extract(sparkf.col('issue_d'),'\\d+',0))\\\n",
    ".withColumn('revol_util',sparkf.col('revol_util').cast(IntegerType()))\\\n",
    ".withColumn('int_rate',sparkf.col('int_rate').cast(FloatType()))\\\n",
    ".withColumn('issue_d',sparkf.col('issue_d').cast(IntegerType()))\\\n",
    ".withColumn('delinq_2yrs',sparkf.col('delinq_2yrs').cast(FloatType()))\\\n",
    ".dropna()"
   ]
  },
  {
   "cell_type": "raw",
   "id": "a978b20d",
   "metadata": {},
   "source": [
    "#### เก่าก่อน 16 JAN 2023\n",
    "# ใช้ Spark ปรับแต่งค่าใน column: annual_inc, loan_status, revol_util, int_rate และ issue_d\n",
    "# ใช้ Spark สร้าง column ใหม่ขึ้นมา คือ calculatedDTI\n",
    "\n",
    "crunched_df = raw_df\\\n",
    ".filter(sparkf.col('annual_inc') != 0)\\\n",
    ".filter((sparkf.col('loan_status') == 'Fully Paid')|(sparkf.col('loan_status') == 'Charged Off'))\\\n",
    ".withColumn('calculatedDTI',sparkf.col('loan_amnt')/sparkf.col('annual_inc'))\\\n",
    ".withColumn('revol_util',sparkf.when(sparkf.col('revol_util').isNotNull(),sparkf.regexp_replace(sparkf.col('revol_util'),'%',''))\\\n",
    "                  .otherwise(sparkf.col('revol_util')))\\\n",
    ".withColumn('int_rate',sparkf.when(sparkf.col('int_rate').isNotNull(),sparkf.regexp_replace(sparkf.col('int_rate'),'%',''))\\\n",
    "                  .otherwise(sparkf.col('int_rate')))\\\n",
    ".withColumn('issue_d',sparkf.regexp_extract(sparkf.col('issue_d'),'\\d+',0))\\\n",
    ".withColumn('revol_util',sparkf.col('revol_util').cast(IntegerType()))\\\n",
    ".withColumn('int_rate',sparkf.col('int_rate').cast(FloatType()))\\\n",
    ".withColumn('issue_d',sparkf.col('issue_d').cast(IntegerType()))\\\n",
    ".dropna()"
   ]
  },
  {
   "cell_type": "code",
   "execution_count": 171,
   "id": "e5e5b2cd",
   "metadata": {},
   "outputs": [
    {
     "name": "stderr",
     "output_type": "stream",
     "text": [
      "                                                                                \r"
     ]
    },
    {
     "data": {
      "text/html": [
       "<div>\n",
       "<style scoped>\n",
       "    .dataframe tbody tr th:only-of-type {\n",
       "        vertical-align: middle;\n",
       "    }\n",
       "\n",
       "    .dataframe tbody tr th {\n",
       "        vertical-align: top;\n",
       "    }\n",
       "\n",
       "    .dataframe thead th {\n",
       "        text-align: right;\n",
       "    }\n",
       "</style>\n",
       "<table border=\"1\" class=\"dataframe\">\n",
       "  <thead>\n",
       "    <tr style=\"text-align: right;\">\n",
       "      <th></th>\n",
       "      <th>0</th>\n",
       "      <th>1</th>\n",
       "      <th>2</th>\n",
       "      <th>3</th>\n",
       "      <th>4</th>\n",
       "    </tr>\n",
       "  </thead>\n",
       "  <tbody>\n",
       "    <tr>\n",
       "      <th>summary</th>\n",
       "      <td>count</td>\n",
       "      <td>mean</td>\n",
       "      <td>stddev</td>\n",
       "      <td>min</td>\n",
       "      <td>max</td>\n",
       "    </tr>\n",
       "    <tr>\n",
       "      <th>loan_amnt</th>\n",
       "      <td>735699</td>\n",
       "      <td>14503.311646474986</td>\n",
       "      <td>9240.754595329387</td>\n",
       "      <td>1000</td>\n",
       "      <td>40000</td>\n",
       "    </tr>\n",
       "    <tr>\n",
       "      <th>term</th>\n",
       "      <td>735699</td>\n",
       "      <td>None</td>\n",
       "      <td>None</td>\n",
       "      <td>36 months</td>\n",
       "      <td>60 months</td>\n",
       "    </tr>\n",
       "    <tr>\n",
       "      <th>int_rate</th>\n",
       "      <td>735699</td>\n",
       "      <td>13.20863910710497</td>\n",
       "      <td>5.157164615890931</td>\n",
       "      <td>5.31</td>\n",
       "      <td>30.99</td>\n",
       "    </tr>\n",
       "    <tr>\n",
       "      <th>installment</th>\n",
       "      <td>735699</td>\n",
       "      <td>446.5516970663024</td>\n",
       "      <td>282.8737824018939</td>\n",
       "      <td>30.12</td>\n",
       "      <td>1715.42</td>\n",
       "    </tr>\n",
       "    <tr>\n",
       "      <th>grade</th>\n",
       "      <td>735699</td>\n",
       "      <td>None</td>\n",
       "      <td>None</td>\n",
       "      <td>A</td>\n",
       "      <td>G</td>\n",
       "    </tr>\n",
       "    <tr>\n",
       "      <th>emp_length</th>\n",
       "      <td>735699</td>\n",
       "      <td>None</td>\n",
       "      <td>None</td>\n",
       "      <td>1 year</td>\n",
       "      <td>n/a</td>\n",
       "    </tr>\n",
       "    <tr>\n",
       "      <th>home_ownership</th>\n",
       "      <td>735699</td>\n",
       "      <td>None</td>\n",
       "      <td>None</td>\n",
       "      <td>ANY</td>\n",
       "      <td>RENT</td>\n",
       "    </tr>\n",
       "    <tr>\n",
       "      <th>annual_inc</th>\n",
       "      <td>735699</td>\n",
       "      <td>79529.98350060284</td>\n",
       "      <td>77993.98162040536</td>\n",
       "      <td>23.0</td>\n",
       "      <td>9573072.0</td>\n",
       "    </tr>\n",
       "    <tr>\n",
       "      <th>verification_status</th>\n",
       "      <td>735699</td>\n",
       "      <td>None</td>\n",
       "      <td>None</td>\n",
       "      <td>Not Verified</td>\n",
       "      <td>Verified</td>\n",
       "    </tr>\n",
       "    <tr>\n",
       "      <th>loan_status</th>\n",
       "      <td>735699</td>\n",
       "      <td>None</td>\n",
       "      <td>None</td>\n",
       "      <td>Charged Off</td>\n",
       "      <td>Fully Paid</td>\n",
       "    </tr>\n",
       "    <tr>\n",
       "      <th>purpose</th>\n",
       "      <td>735699</td>\n",
       "      <td>None</td>\n",
       "      <td>None</td>\n",
       "      <td>car</td>\n",
       "      <td>wedding</td>\n",
       "    </tr>\n",
       "    <tr>\n",
       "      <th>addr_state</th>\n",
       "      <td>735699</td>\n",
       "      <td>None</td>\n",
       "      <td>None</td>\n",
       "      <td>AK</td>\n",
       "      <td>WY</td>\n",
       "    </tr>\n",
       "    <tr>\n",
       "      <th>dti</th>\n",
       "      <td>735699</td>\n",
       "      <td>18.712825272291937</td>\n",
       "      <td>13.748737674906726</td>\n",
       "      <td>-1</td>\n",
       "      <td>999</td>\n",
       "    </tr>\n",
       "    <tr>\n",
       "      <th>delinq_2yrs</th>\n",
       "      <td>735699</td>\n",
       "      <td>0.3276000103303117</td>\n",
       "      <td>0.9006032334800358</td>\n",
       "      <td>0.0</td>\n",
       "      <td>29.0</td>\n",
       "    </tr>\n",
       "    <tr>\n",
       "      <th>earliest_cr_line</th>\n",
       "      <td>735699</td>\n",
       "      <td>None</td>\n",
       "      <td>None</td>\n",
       "      <td>Apr-1955</td>\n",
       "      <td>Sep-2015</td>\n",
       "    </tr>\n",
       "    <tr>\n",
       "      <th>open_acc</th>\n",
       "      <td>735699</td>\n",
       "      <td>11.764759772678772</td>\n",
       "      <td>5.771126158816101</td>\n",
       "      <td>1</td>\n",
       "      <td>86</td>\n",
       "    </tr>\n",
       "    <tr>\n",
       "      <th>pub_rec</th>\n",
       "      <td>735699</td>\n",
       "      <td>0.24810690241525407</td>\n",
       "      <td>0.6649044394994821</td>\n",
       "      <td>0</td>\n",
       "      <td>61</td>\n",
       "    </tr>\n",
       "    <tr>\n",
       "      <th>revol_bal</th>\n",
       "      <td>735699</td>\n",
       "      <td>16106.29800366726</td>\n",
       "      <td>22795.227151197745</td>\n",
       "      <td>0</td>\n",
       "      <td>1137891</td>\n",
       "    </tr>\n",
       "    <tr>\n",
       "      <th>revol_util</th>\n",
       "      <td>735699</td>\n",
       "      <td>47.35473882661251</td>\n",
       "      <td>24.66666644672663</td>\n",
       "      <td>0</td>\n",
       "      <td>119</td>\n",
       "    </tr>\n",
       "    <tr>\n",
       "      <th>total_acc</th>\n",
       "      <td>735699</td>\n",
       "      <td>24.412099241673566</td>\n",
       "      <td>12.16633956357885</td>\n",
       "      <td>2</td>\n",
       "      <td>176</td>\n",
       "    </tr>\n",
       "    <tr>\n",
       "      <th>issue_d</th>\n",
       "      <td>735699</td>\n",
       "      <td>2016.692538660512</td>\n",
       "      <td>0.7943517599775972</td>\n",
       "      <td>2016</td>\n",
       "      <td>2019</td>\n",
       "    </tr>\n",
       "    <tr>\n",
       "      <th>calculatedDTI</th>\n",
       "      <td>735699</td>\n",
       "      <td>0.21742337024895372</td>\n",
       "      <td>1.782307602361938</td>\n",
       "      <td>1.7142857142857143E-4</td>\n",
       "      <td>1200.0</td>\n",
       "    </tr>\n",
       "  </tbody>\n",
       "</table>\n",
       "</div>"
      ],
      "text/plain": [
       "                          0                    1                   2  \\\n",
       "summary               count                 mean              stddev   \n",
       "loan_amnt            735699   14503.311646474986   9240.754595329387   \n",
       "term                 735699                 None                None   \n",
       "int_rate             735699    13.20863910710497   5.157164615890931   \n",
       "installment          735699    446.5516970663024   282.8737824018939   \n",
       "grade                735699                 None                None   \n",
       "emp_length           735699                 None                None   \n",
       "home_ownership       735699                 None                None   \n",
       "annual_inc           735699    79529.98350060284   77993.98162040536   \n",
       "verification_status  735699                 None                None   \n",
       "loan_status          735699                 None                None   \n",
       "purpose              735699                 None                None   \n",
       "addr_state           735699                 None                None   \n",
       "dti                  735699   18.712825272291937  13.748737674906726   \n",
       "delinq_2yrs          735699   0.3276000103303117  0.9006032334800358   \n",
       "earliest_cr_line     735699                 None                None   \n",
       "open_acc             735699   11.764759772678772   5.771126158816101   \n",
       "pub_rec              735699  0.24810690241525407  0.6649044394994821   \n",
       "revol_bal            735699    16106.29800366726  22795.227151197745   \n",
       "revol_util           735699    47.35473882661251   24.66666644672663   \n",
       "total_acc            735699   24.412099241673566   12.16633956357885   \n",
       "issue_d              735699    2016.692538660512  0.7943517599775972   \n",
       "calculatedDTI        735699  0.21742337024895372   1.782307602361938   \n",
       "\n",
       "                                         3           4  \n",
       "summary                                min         max  \n",
       "loan_amnt                             1000       40000  \n",
       "term                             36 months   60 months  \n",
       "int_rate                              5.31       30.99  \n",
       "installment                          30.12     1715.42  \n",
       "grade                                    A           G  \n",
       "emp_length                          1 year         n/a  \n",
       "home_ownership                         ANY        RENT  \n",
       "annual_inc                            23.0   9573072.0  \n",
       "verification_status           Not Verified    Verified  \n",
       "loan_status                    Charged Off  Fully Paid  \n",
       "purpose                                car     wedding  \n",
       "addr_state                              AK          WY  \n",
       "dti                                     -1         999  \n",
       "delinq_2yrs                            0.0        29.0  \n",
       "earliest_cr_line                  Apr-1955    Sep-2015  \n",
       "open_acc                                 1          86  \n",
       "pub_rec                                  0          61  \n",
       "revol_bal                                0     1137891  \n",
       "revol_util                               0         119  \n",
       "total_acc                                2         176  \n",
       "issue_d                               2016        2019  \n",
       "calculatedDTI        1.7142857142857143E-4      1200.0  "
      ]
     },
     "execution_count": 171,
     "metadata": {},
     "output_type": "execute_result"
    }
   ],
   "source": [
    "crunched_df.describe().toPandas().transpose()"
   ]
  },
  {
   "cell_type": "code",
   "execution_count": 172,
   "id": "a675878a",
   "metadata": {},
   "outputs": [
    {
     "name": "stdout",
     "output_type": "stream",
     "text": [
      "root\n",
      " |-- loan_amnt: integer (nullable = true)\n",
      " |-- term: string (nullable = true)\n",
      " |-- int_rate: float (nullable = true)\n",
      " |-- installment: double (nullable = true)\n",
      " |-- grade: string (nullable = true)\n",
      " |-- emp_length: string (nullable = true)\n",
      " |-- home_ownership: string (nullable = true)\n",
      " |-- annual_inc: double (nullable = true)\n",
      " |-- verification_status: string (nullable = true)\n",
      " |-- loan_status: string (nullable = true)\n",
      " |-- purpose: string (nullable = true)\n",
      " |-- addr_state: string (nullable = true)\n",
      " |-- dti: string (nullable = true)\n",
      " |-- delinq_2yrs: float (nullable = true)\n",
      " |-- earliest_cr_line: string (nullable = true)\n",
      " |-- open_acc: integer (nullable = true)\n",
      " |-- pub_rec: integer (nullable = true)\n",
      " |-- revol_bal: integer (nullable = true)\n",
      " |-- revol_util: integer (nullable = true)\n",
      " |-- total_acc: integer (nullable = true)\n",
      " |-- issue_d: integer (nullable = true)\n",
      " |-- calculatedDTI: double (nullable = true)\n",
      "\n"
     ]
    }
   ],
   "source": [
    "crunched_df.printSchema()"
   ]
  },
  {
   "cell_type": "code",
   "execution_count": 173,
   "id": "674c1068",
   "metadata": {},
   "outputs": [
    {
     "name": "stderr",
     "output_type": "stream",
     "text": [
      "                                                                                \r"
     ]
    }
   ],
   "source": [
    "crunched_pd = crunched_df.toPandas()"
   ]
  },
  {
   "cell_type": "code",
   "execution_count": 174,
   "id": "d4693bf4",
   "metadata": {},
   "outputs": [
    {
     "data": {
      "image/png": "[encoded data removed]",
      "text/plain": [
       "<Figure size 1080x270 with 2 Axes>"
      ]
     },
     "metadata": {},
     "output_type": "display_data"
    }
   ],
   "source": [
    "plot_var(crunched_pd,'annual_inc', 'Annual Income', continuous=True)"
   ]
  },
  {
   "cell_type": "code",
   "execution_count": 175,
   "id": "c1733219",
   "metadata": {},
   "outputs": [
    {
     "name": "stderr",
     "output_type": "stream",
     "text": [
      "                                                                                \r"
     ]
    },
    {
     "data": {
      "image/png": "[encoded data removed]",
      "text/plain": [
       "<Figure size 1080x270 with 2 Axes>"
      ]
     },
     "metadata": {},
     "output_type": "display_data"
    }
   ],
   "source": [
    "#เมื่อทดลองเอา Outlier ออก แล้ว ทดสอบความสัมพันธ์ด้วย boxplot อีกครั้ง\n",
    "plot_var(crunched_df.filter(sparkf.col('annual_inc')<150000).toPandas(),'annual_inc', 'Annual Income', continuous=True)"
   ]
  },
  {
   "cell_type": "code",
   "execution_count": null,
   "id": "c047b1dd",
   "metadata": {},
   "outputs": [],
   "source": []
  },
  {
   "cell_type": "code",
   "execution_count": 176,
   "id": "2c45f276",
   "metadata": {},
   "outputs": [
    {
     "data": {
      "image/png": "[encoded data removed]",
      "text/plain": [
       "<Figure size 1080x270 with 2 Axes>"
      ]
     },
     "metadata": {},
     "output_type": "display_data"
    }
   ],
   "source": [
    "plot_var(crunched_pd,'int_rate', 'Interest Rate', continuous=True)"
   ]
  },
  {
   "cell_type": "code",
   "execution_count": 177,
   "id": "ec2a9af3",
   "metadata": {},
   "outputs": [
    {
     "name": "stderr",
     "output_type": "stream",
     "text": [
      "                                                                                \r"
     ]
    },
    {
     "data": {
      "image/png": "[encoded data removed]",
      "text/plain": [
       "<Figure size 1080x270 with 2 Axes>"
      ]
     },
     "metadata": {},
     "output_type": "display_data"
    }
   ],
   "source": [
    "plot_var(crunched_df.filter(((sparkf.col('int_rate')<22)&(sparkf.col('loan_status')=='Fully Paid'))|((sparkf.col('loan_status')=='Charged Off')\\\n",
    "                                                                                                     &(sparkf.col('int_rate')<28))).toPandas()\\\n",
    "         ,'int_rate', 'Interest Rate', continuous=True)"
   ]
  },
  {
   "cell_type": "code",
   "execution_count": 178,
   "id": "aa539625",
   "metadata": {},
   "outputs": [],
   "source": [
    "# Spark สร้าง ABT\n",
    "\n",
    "final_df = crunched_df\\\n",
    ".filter(sparkf.col('annual_inc')<150000)\\\n",
    ".filter(((sparkf.col('int_rate')<22)&(sparkf.col('loan_status')=='Fully Paid'))|((sparkf.col('loan_status')=='Charged Off')&(sparkf.col('int_rate')<28)))## กรอง Outlier ออก"
   ]
  },
  {
   "cell_type": "code",
   "execution_count": 179,
   "id": "98fcb682",
   "metadata": {},
   "outputs": [
    {
     "name": "stderr",
     "output_type": "stream",
     "text": [
      "                                                                                \r"
     ]
    },
    {
     "data": {
      "text/html": [
       "<div>\n",
       "<style scoped>\n",
       "    .dataframe tbody tr th:only-of-type {\n",
       "        vertical-align: middle;\n",
       "    }\n",
       "\n",
       "    .dataframe tbody tr th {\n",
       "        vertical-align: top;\n",
       "    }\n",
       "\n",
       "    .dataframe thead th {\n",
       "        text-align: right;\n",
       "    }\n",
       "</style>\n",
       "<table border=\"1\" class=\"dataframe\">\n",
       "  <thead>\n",
       "    <tr style=\"text-align: right;\">\n",
       "      <th></th>\n",
       "      <th>0</th>\n",
       "      <th>1</th>\n",
       "      <th>2</th>\n",
       "      <th>3</th>\n",
       "      <th>4</th>\n",
       "    </tr>\n",
       "  </thead>\n",
       "  <tbody>\n",
       "    <tr>\n",
       "      <th>summary</th>\n",
       "      <td>count</td>\n",
       "      <td>mean</td>\n",
       "      <td>stddev</td>\n",
       "      <td>min</td>\n",
       "      <td>max</td>\n",
       "    </tr>\n",
       "    <tr>\n",
       "      <th>loan_amnt</th>\n",
       "      <td>648013</td>\n",
       "      <td>13602.701720490175</td>\n",
       "      <td>8659.919907585843</td>\n",
       "      <td>1000</td>\n",
       "      <td>40000</td>\n",
       "    </tr>\n",
       "    <tr>\n",
       "      <th>term</th>\n",
       "      <td>648013</td>\n",
       "      <td>None</td>\n",
       "      <td>None</td>\n",
       "      <td>36 months</td>\n",
       "      <td>60 months</td>\n",
       "    </tr>\n",
       "    <tr>\n",
       "      <th>int_rate</th>\n",
       "      <td>648013</td>\n",
       "      <td>12.666696978351423</td>\n",
       "      <td>4.333313712957548</td>\n",
       "      <td>5.31</td>\n",
       "      <td>27.99</td>\n",
       "    </tr>\n",
       "    <tr>\n",
       "      <th>installment</th>\n",
       "      <td>648013</td>\n",
       "      <td>417.92912014109277</td>\n",
       "      <td>263.1534910269059</td>\n",
       "      <td>30.12</td>\n",
       "      <td>1597.6</td>\n",
       "    </tr>\n",
       "    <tr>\n",
       "      <th>grade</th>\n",
       "      <td>648013</td>\n",
       "      <td>None</td>\n",
       "      <td>None</td>\n",
       "      <td>A</td>\n",
       "      <td>G</td>\n",
       "    </tr>\n",
       "    <tr>\n",
       "      <th>emp_length</th>\n",
       "      <td>648013</td>\n",
       "      <td>None</td>\n",
       "      <td>None</td>\n",
       "      <td>1 year</td>\n",
       "      <td>n/a</td>\n",
       "    </tr>\n",
       "    <tr>\n",
       "      <th>home_ownership</th>\n",
       "      <td>648013</td>\n",
       "      <td>None</td>\n",
       "      <td>None</td>\n",
       "      <td>ANY</td>\n",
       "      <td>RENT</td>\n",
       "    </tr>\n",
       "    <tr>\n",
       "      <th>annual_inc</th>\n",
       "      <td>648013</td>\n",
       "      <td>68374.77174712547</td>\n",
       "      <td>29300.452012039892</td>\n",
       "      <td>25.0</td>\n",
       "      <td>149999.0</td>\n",
       "    </tr>\n",
       "    <tr>\n",
       "      <th>verification_status</th>\n",
       "      <td>648013</td>\n",
       "      <td>None</td>\n",
       "      <td>None</td>\n",
       "      <td>Not Verified</td>\n",
       "      <td>Verified</td>\n",
       "    </tr>\n",
       "    <tr>\n",
       "      <th>loan_status</th>\n",
       "      <td>648013</td>\n",
       "      <td>None</td>\n",
       "      <td>None</td>\n",
       "      <td>Charged Off</td>\n",
       "      <td>Fully Paid</td>\n",
       "    </tr>\n",
       "    <tr>\n",
       "      <th>purpose</th>\n",
       "      <td>648013</td>\n",
       "      <td>None</td>\n",
       "      <td>None</td>\n",
       "      <td>car</td>\n",
       "      <td>wedding</td>\n",
       "    </tr>\n",
       "    <tr>\n",
       "      <th>addr_state</th>\n",
       "      <td>648013</td>\n",
       "      <td>None</td>\n",
       "      <td>None</td>\n",
       "      <td>AK</td>\n",
       "      <td>WY</td>\n",
       "    </tr>\n",
       "    <tr>\n",
       "      <th>dti</th>\n",
       "      <td>648013</td>\n",
       "      <td>18.95899393993622</td>\n",
       "      <td>13.952535706865428</td>\n",
       "      <td>-1</td>\n",
       "      <td>999</td>\n",
       "    </tr>\n",
       "    <tr>\n",
       "      <th>delinq_2yrs</th>\n",
       "      <td>648013</td>\n",
       "      <td>0.32162472049171853</td>\n",
       "      <td>0.8944456006152743</td>\n",
       "      <td>0.0</td>\n",
       "      <td>22.0</td>\n",
       "    </tr>\n",
       "    <tr>\n",
       "      <th>earliest_cr_line</th>\n",
       "      <td>648013</td>\n",
       "      <td>None</td>\n",
       "      <td>None</td>\n",
       "      <td>Apr-1960</td>\n",
       "      <td>Sep-2015</td>\n",
       "    </tr>\n",
       "    <tr>\n",
       "      <th>open_acc</th>\n",
       "      <td>648013</td>\n",
       "      <td>11.561660028425356</td>\n",
       "      <td>5.651470400501978</td>\n",
       "      <td>1</td>\n",
       "      <td>81</td>\n",
       "    </tr>\n",
       "    <tr>\n",
       "      <th>pub_rec</th>\n",
       "      <td>648013</td>\n",
       "      <td>0.2464271550107791</td>\n",
       "      <td>0.6528231973951861</td>\n",
       "      <td>0</td>\n",
       "      <td>61</td>\n",
       "    </tr>\n",
       "    <tr>\n",
       "      <th>revol_bal</th>\n",
       "      <td>648013</td>\n",
       "      <td>14181.285398595399</td>\n",
       "      <td>16230.531385289285</td>\n",
       "      <td>0</td>\n",
       "      <td>959754</td>\n",
       "    </tr>\n",
       "    <tr>\n",
       "      <th>revol_util</th>\n",
       "      <td>648013</td>\n",
       "      <td>46.7550697285394</td>\n",
       "      <td>24.460356041320313</td>\n",
       "      <td>0</td>\n",
       "      <td>119</td>\n",
       "    </tr>\n",
       "    <tr>\n",
       "      <th>total_acc</th>\n",
       "      <td>648013</td>\n",
       "      <td>23.937956491613594</td>\n",
       "      <td>11.946558591814336</td>\n",
       "      <td>2</td>\n",
       "      <td>176</td>\n",
       "    </tr>\n",
       "    <tr>\n",
       "      <th>issue_d</th>\n",
       "      <td>648013</td>\n",
       "      <td>2016.6812903444838</td>\n",
       "      <td>0.7932994666523437</td>\n",
       "      <td>2016</td>\n",
       "      <td>2019</td>\n",
       "    </tr>\n",
       "    <tr>\n",
       "      <th>calculatedDTI</th>\n",
       "      <td>648013</td>\n",
       "      <td>0.22142291079713872</td>\n",
       "      <td>1.777321238225303</td>\n",
       "      <td>0.006711409395973154</td>\n",
       "      <td>1200.0</td>\n",
       "    </tr>\n",
       "  </tbody>\n",
       "</table>\n",
       "</div>"
      ],
      "text/plain": [
       "                          0                    1                   2  \\\n",
       "summary               count                 mean              stddev   \n",
       "loan_amnt            648013   13602.701720490175   8659.919907585843   \n",
       "term                 648013                 None                None   \n",
       "int_rate             648013   12.666696978351423   4.333313712957548   \n",
       "installment          648013   417.92912014109277   263.1534910269059   \n",
       "grade                648013                 None                None   \n",
       "emp_length           648013                 None                None   \n",
       "home_ownership       648013                 None                None   \n",
       "annual_inc           648013    68374.77174712547  29300.452012039892   \n",
       "verification_status  648013                 None                None   \n",
       "loan_status          648013                 None                None   \n",
       "purpose              648013                 None                None   \n",
       "addr_state           648013                 None                None   \n",
       "dti                  648013    18.95899393993622  13.952535706865428   \n",
       "delinq_2yrs          648013  0.32162472049171853  0.8944456006152743   \n",
       "earliest_cr_line     648013                 None                None   \n",
       "open_acc             648013   11.561660028425356   5.651470400501978   \n",
       "pub_rec              648013   0.2464271550107791  0.6528231973951861   \n",
       "revol_bal            648013   14181.285398595399  16230.531385289285   \n",
       "revol_util           648013     46.7550697285394  24.460356041320313   \n",
       "total_acc            648013   23.937956491613594  11.946558591814336   \n",
       "issue_d              648013   2016.6812903444838  0.7932994666523437   \n",
       "calculatedDTI        648013  0.22142291079713872   1.777321238225303   \n",
       "\n",
       "                                        3           4  \n",
       "summary                               min         max  \n",
       "loan_amnt                            1000       40000  \n",
       "term                            36 months   60 months  \n",
       "int_rate                             5.31       27.99  \n",
       "installment                         30.12      1597.6  \n",
       "grade                                   A           G  \n",
       "emp_length                         1 year         n/a  \n",
       "home_ownership                        ANY        RENT  \n",
       "annual_inc                           25.0    149999.0  \n",
       "verification_status          Not Verified    Verified  \n",
       "loan_status                   Charged Off  Fully Paid  \n",
       "purpose                               car     wedding  \n",
       "addr_state                             AK          WY  \n",
       "dti                                    -1         999  \n",
       "delinq_2yrs                           0.0        22.0  \n",
       "earliest_cr_line                 Apr-1960    Sep-2015  \n",
       "open_acc                                1          81  \n",
       "pub_rec                                 0          61  \n",
       "revol_bal                               0      959754  \n",
       "revol_util                              0         119  \n",
       "total_acc                               2         176  \n",
       "issue_d                              2016        2019  \n",
       "calculatedDTI        0.006711409395973154      1200.0  "
      ]
     },
     "execution_count": 179,
     "metadata": {},
     "output_type": "execute_result"
    }
   ],
   "source": [
    "final_df.describe().toPandas().transpose()"
   ]
  },
  {
   "cell_type": "code",
   "execution_count": 180,
   "id": "b6dfd209",
   "metadata": {},
   "outputs": [
    {
     "name": "stdout",
     "output_type": "stream",
     "text": [
      "root\n",
      " |-- loan_amnt: integer (nullable = true)\n",
      " |-- term: string (nullable = true)\n",
      " |-- int_rate: float (nullable = true)\n",
      " |-- installment: double (nullable = true)\n",
      " |-- grade: string (nullable = true)\n",
      " |-- emp_length: string (nullable = true)\n",
      " |-- home_ownership: string (nullable = true)\n",
      " |-- annual_inc: double (nullable = true)\n",
      " |-- verification_status: string (nullable = true)\n",
      " |-- loan_status: string (nullable = true)\n",
      " |-- purpose: string (nullable = true)\n",
      " |-- addr_state: string (nullable = true)\n",
      " |-- dti: string (nullable = true)\n",
      " |-- delinq_2yrs: float (nullable = true)\n",
      " |-- earliest_cr_line: string (nullable = true)\n",
      " |-- open_acc: integer (nullable = true)\n",
      " |-- pub_rec: integer (nullable = true)\n",
      " |-- revol_bal: integer (nullable = true)\n",
      " |-- revol_util: integer (nullable = true)\n",
      " |-- total_acc: integer (nullable = true)\n",
      " |-- issue_d: integer (nullable = true)\n",
      " |-- calculatedDTI: double (nullable = true)\n",
      "\n"
     ]
    }
   ],
   "source": [
    "final_df.printSchema()"
   ]
  },
  {
   "cell_type": "code",
   "execution_count": 181,
   "id": "8e33e613",
   "metadata": {},
   "outputs": [],
   "source": [
    "# สรุป column ที่เราพิจารณาว่าเป็น high dispersion, มี null เกินกว่าที่กำหนดไว้ และมี null อยู่ใน column"
   ]
  },
  {
   "cell_type": "code",
   "execution_count": 182,
   "id": "08cc8e37",
   "metadata": {},
   "outputs": [
    {
     "data": {
      "text/plain": [
       "['delinq_2yrs', 'pub_rec', 'annual_inc', 'revol_bal']"
      ]
     },
     "execution_count": 182,
     "metadata": {},
     "output_type": "execute_result"
    }
   ],
   "source": [
    "HIGHDISPERSION_LIST"
   ]
  },
  {
   "cell_type": "code",
   "execution_count": 183,
   "id": "a81c9a38",
   "metadata": {},
   "outputs": [
    {
     "data": {
      "text/plain": [
       "['dti']"
      ]
     },
     "execution_count": 183,
     "metadata": {},
     "output_type": "execute_result"
    }
   ],
   "source": [
    "HIGHNULL_LIST"
   ]
  },
  {
   "cell_type": "code",
   "execution_count": 184,
   "id": "62f69603",
   "metadata": {},
   "outputs": [
    {
     "data": {
      "text/plain": [
       "['delinq_2yrs',\n",
       " 'pub_rec',\n",
       " 'annual_inc',\n",
       " 'revol_bal',\n",
       " 'dti',\n",
       " 'loan_amnt',\n",
       " 'installment',\n",
       " 'total_acc',\n",
       " 'open_acc',\n",
       " 'term',\n",
       " 'int_rate',\n",
       " 'grade',\n",
       " 'emp_length',\n",
       " 'home_ownership',\n",
       " 'verification_status',\n",
       " 'loan_status',\n",
       " 'purpose',\n",
       " 'addr_state',\n",
       " 'earliest_cr_line',\n",
       " 'revol_util',\n",
       " 'issue_d']"
      ]
     },
     "execution_count": 184,
     "metadata": {},
     "output_type": "execute_result"
    }
   ],
   "source": [
    "NULL_LIST"
   ]
  },
  {
   "cell_type": "code",
   "execution_count": null,
   "id": "489107a9",
   "metadata": {},
   "outputs": [],
   "source": []
  },
  {
   "cell_type": "code",
   "execution_count": null,
   "id": "f74e92ce",
   "metadata": {},
   "outputs": [],
   "source": []
  },
  {
   "cell_type": "code",
   "execution_count": null,
   "id": "2d2c6db9",
   "metadata": {},
   "outputs": [],
   "source": []
  },
  {
   "cell_type": "code",
   "execution_count": null,
   "id": "4c751eaa",
   "metadata": {},
   "outputs": [],
   "source": []
  },
  {
   "cell_type": "code",
   "execution_count": null,
   "id": "65852683",
   "metadata": {},
   "outputs": [],
   "source": []
  },
  {
   "cell_type": "code",
   "execution_count": null,
   "id": "934ff785",
   "metadata": {},
   "outputs": [],
   "source": []
  }
 ],
 "metadata": {
  "kernelspec": {
   "display_name": "Python 3 (ipykernel)",
   "language": "python",
   "name": "python3"
  },
  "language_info": {
   "codemirror_mode": {
    "name": "ipython",
    "version": 3
   },
   "file_extension": ".py",
   "mimetype": "text/x-python",
   "name": "python",
   "nbconvert_exporter": "python",
   "pygments_lexer": "ipython3",
   "version": "3.9.2"
  }
 },
 "nbformat": 4,
 "nbformat_minor": 5
}
